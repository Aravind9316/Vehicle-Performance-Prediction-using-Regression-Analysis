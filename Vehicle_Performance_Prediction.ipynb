{
 "cells": [
  {
   "cell_type": "markdown",
   "id": "44e66f04",
   "metadata": {},
   "source": [
    "### Objective:\n",
    "To predict the vehicle performance based on the given features."
   ]
  },
  {
   "cell_type": "markdown",
   "id": "01dea36c",
   "metadata": {},
   "source": [
    "### Scope:\n",
    "Our goal is to predict mileage for cars based on various characteristics. Through the modeling effort, we can understand what makes a car efficient and how to achieve target mileage consumption."
   ]
  },
  {
   "cell_type": "markdown",
   "id": "04cfa48f",
   "metadata": {},
   "source": [
    "### Importation of libraries    "
   ]
  },
  {
   "cell_type": "code",
   "execution_count": 134,
   "id": "064f3ddc",
   "metadata": {},
   "outputs": [],
   "source": [
    "import numpy as np\n",
    "import pandas as pd\n",
    "import matplotlib.pyplot as plt\n",
    "import seaborn as sns"
   ]
  },
  {
   "cell_type": "markdown",
   "id": "72cf6d9d",
   "metadata": {},
   "source": [
    "### Importation of Data"
   ]
  },
  {
   "cell_type": "code",
   "execution_count": 135,
   "id": "c749defe",
   "metadata": {
    "scrolled": false
   },
   "outputs": [
    {
     "data": {
      "text/html": [
       "<div>\n",
       "<style scoped>\n",
       "    .dataframe tbody tr th:only-of-type {\n",
       "        vertical-align: middle;\n",
       "    }\n",
       "\n",
       "    .dataframe tbody tr th {\n",
       "        vertical-align: top;\n",
       "    }\n",
       "\n",
       "    .dataframe thead th {\n",
       "        text-align: right;\n",
       "    }\n",
       "</style>\n",
       "<table border=\"1\" class=\"dataframe\">\n",
       "  <thead>\n",
       "    <tr style=\"text-align: right;\">\n",
       "      <th></th>\n",
       "      <th>origin</th>\n",
       "      <th>cylinders</th>\n",
       "      <th>displacement</th>\n",
       "      <th>horsepower</th>\n",
       "      <th>weight</th>\n",
       "      <th>acceleration</th>\n",
       "      <th>year</th>\n",
       "      <th>name</th>\n",
       "      <th>Kilometer_per_liter</th>\n",
       "    </tr>\n",
       "  </thead>\n",
       "  <tbody>\n",
       "    <tr>\n",
       "      <th>0</th>\n",
       "      <td>1</td>\n",
       "      <td>8</td>\n",
       "      <td>307.0</td>\n",
       "      <td>130.0</td>\n",
       "      <td>3504</td>\n",
       "      <td>12.0</td>\n",
       "      <td>1970</td>\n",
       "      <td>chevrolet chevelle malibu</td>\n",
       "      <td>7.652587</td>\n",
       "    </tr>\n",
       "    <tr>\n",
       "      <th>1</th>\n",
       "      <td>1</td>\n",
       "      <td>8</td>\n",
       "      <td>350.0</td>\n",
       "      <td>165.0</td>\n",
       "      <td>3693</td>\n",
       "      <td>11.5</td>\n",
       "      <td>1970</td>\n",
       "      <td>buick skylark 320</td>\n",
       "      <td>6.377156</td>\n",
       "    </tr>\n",
       "    <tr>\n",
       "      <th>2</th>\n",
       "      <td>1</td>\n",
       "      <td>8</td>\n",
       "      <td>318.0</td>\n",
       "      <td>150.0</td>\n",
       "      <td>3436</td>\n",
       "      <td>11.0</td>\n",
       "      <td>1970</td>\n",
       "      <td>plymouth satellite</td>\n",
       "      <td>7.652587</td>\n",
       "    </tr>\n",
       "    <tr>\n",
       "      <th>3</th>\n",
       "      <td>1</td>\n",
       "      <td>8</td>\n",
       "      <td>304.0</td>\n",
       "      <td>150.0</td>\n",
       "      <td>3433</td>\n",
       "      <td>12.0</td>\n",
       "      <td>1970</td>\n",
       "      <td>amc rebel sst</td>\n",
       "      <td>6.802299</td>\n",
       "    </tr>\n",
       "    <tr>\n",
       "      <th>4</th>\n",
       "      <td>1</td>\n",
       "      <td>8</td>\n",
       "      <td>302.0</td>\n",
       "      <td>140.0</td>\n",
       "      <td>3449</td>\n",
       "      <td>10.5</td>\n",
       "      <td>1970</td>\n",
       "      <td>ford torino</td>\n",
       "      <td>7.227443</td>\n",
       "    </tr>\n",
       "    <tr>\n",
       "      <th>...</th>\n",
       "      <td>...</td>\n",
       "      <td>...</td>\n",
       "      <td>...</td>\n",
       "      <td>...</td>\n",
       "      <td>...</td>\n",
       "      <td>...</td>\n",
       "      <td>...</td>\n",
       "      <td>...</td>\n",
       "      <td>...</td>\n",
       "    </tr>\n",
       "    <tr>\n",
       "      <th>393</th>\n",
       "      <td>1</td>\n",
       "      <td>4</td>\n",
       "      <td>140.0</td>\n",
       "      <td>86.0</td>\n",
       "      <td>2790</td>\n",
       "      <td>15.6</td>\n",
       "      <td>1982</td>\n",
       "      <td>ford mustang gl</td>\n",
       "      <td>11.478880</td>\n",
       "    </tr>\n",
       "    <tr>\n",
       "      <th>394</th>\n",
       "      <td>2</td>\n",
       "      <td>4</td>\n",
       "      <td>97.0</td>\n",
       "      <td>52.0</td>\n",
       "      <td>2130</td>\n",
       "      <td>24.6</td>\n",
       "      <td>1982</td>\n",
       "      <td>vw pickup</td>\n",
       "      <td>18.706323</td>\n",
       "    </tr>\n",
       "    <tr>\n",
       "      <th>395</th>\n",
       "      <td>1</td>\n",
       "      <td>4</td>\n",
       "      <td>135.0</td>\n",
       "      <td>84.0</td>\n",
       "      <td>2295</td>\n",
       "      <td>11.6</td>\n",
       "      <td>1982</td>\n",
       "      <td>dodge rampage</td>\n",
       "      <td>13.604599</td>\n",
       "    </tr>\n",
       "    <tr>\n",
       "      <th>396</th>\n",
       "      <td>1</td>\n",
       "      <td>4</td>\n",
       "      <td>120.0</td>\n",
       "      <td>79.0</td>\n",
       "      <td>2625</td>\n",
       "      <td>18.6</td>\n",
       "      <td>1982</td>\n",
       "      <td>ford ranger</td>\n",
       "      <td>11.904024</td>\n",
       "    </tr>\n",
       "    <tr>\n",
       "      <th>397</th>\n",
       "      <td>1</td>\n",
       "      <td>4</td>\n",
       "      <td>119.0</td>\n",
       "      <td>82.0</td>\n",
       "      <td>2720</td>\n",
       "      <td>19.4</td>\n",
       "      <td>1982</td>\n",
       "      <td>chevy s-10</td>\n",
       "      <td>13.179455</td>\n",
       "    </tr>\n",
       "  </tbody>\n",
       "</table>\n",
       "<p>398 rows × 9 columns</p>\n",
       "</div>"
      ],
      "text/plain": [
       "     origin  cylinders  displacement  horsepower  weight  acceleration  year  \\\n",
       "0         1          8         307.0       130.0    3504          12.0  1970   \n",
       "1         1          8         350.0       165.0    3693          11.5  1970   \n",
       "2         1          8         318.0       150.0    3436          11.0  1970   \n",
       "3         1          8         304.0       150.0    3433          12.0  1970   \n",
       "4         1          8         302.0       140.0    3449          10.5  1970   \n",
       "..      ...        ...           ...         ...     ...           ...   ...   \n",
       "393       1          4         140.0        86.0    2790          15.6  1982   \n",
       "394       2          4          97.0        52.0    2130          24.6  1982   \n",
       "395       1          4         135.0        84.0    2295          11.6  1982   \n",
       "396       1          4         120.0        79.0    2625          18.6  1982   \n",
       "397       1          4         119.0        82.0    2720          19.4  1982   \n",
       "\n",
       "                          name  Kilometer_per_liter  \n",
       "0    chevrolet chevelle malibu             7.652587  \n",
       "1            buick skylark 320             6.377156  \n",
       "2           plymouth satellite             7.652587  \n",
       "3                amc rebel sst             6.802299  \n",
       "4                  ford torino             7.227443  \n",
       "..                         ...                  ...  \n",
       "393            ford mustang gl            11.478880  \n",
       "394                  vw pickup            18.706323  \n",
       "395              dodge rampage            13.604599  \n",
       "396                ford ranger            11.904024  \n",
       "397                 chevy s-10            13.179455  \n",
       "\n",
       "[398 rows x 9 columns]"
      ]
     },
     "execution_count": 135,
     "metadata": {},
     "output_type": "execute_result"
    }
   ],
   "source": [
    "df=pd.read_csv(\"data.csv\")\n",
    "df"
   ]
  },
  {
   "cell_type": "code",
   "execution_count": 136,
   "id": "2c928a9f",
   "metadata": {},
   "outputs": [
    {
     "data": {
      "text/html": [
       "<div>\n",
       "<style scoped>\n",
       "    .dataframe tbody tr th:only-of-type {\n",
       "        vertical-align: middle;\n",
       "    }\n",
       "\n",
       "    .dataframe tbody tr th {\n",
       "        vertical-align: top;\n",
       "    }\n",
       "\n",
       "    .dataframe thead th {\n",
       "        text-align: right;\n",
       "    }\n",
       "</style>\n",
       "<table border=\"1\" class=\"dataframe\">\n",
       "  <thead>\n",
       "    <tr style=\"text-align: right;\">\n",
       "      <th></th>\n",
       "      <th>0</th>\n",
       "      <th>1</th>\n",
       "      <th>2</th>\n",
       "      <th>3</th>\n",
       "      <th>4</th>\n",
       "    </tr>\n",
       "  </thead>\n",
       "  <tbody>\n",
       "    <tr>\n",
       "      <th>origin</th>\n",
       "      <td>1</td>\n",
       "      <td>1</td>\n",
       "      <td>1</td>\n",
       "      <td>1</td>\n",
       "      <td>1</td>\n",
       "    </tr>\n",
       "    <tr>\n",
       "      <th>cylinders</th>\n",
       "      <td>8</td>\n",
       "      <td>8</td>\n",
       "      <td>8</td>\n",
       "      <td>8</td>\n",
       "      <td>8</td>\n",
       "    </tr>\n",
       "    <tr>\n",
       "      <th>displacement</th>\n",
       "      <td>307.0</td>\n",
       "      <td>350.0</td>\n",
       "      <td>318.0</td>\n",
       "      <td>304.0</td>\n",
       "      <td>302.0</td>\n",
       "    </tr>\n",
       "    <tr>\n",
       "      <th>horsepower</th>\n",
       "      <td>130.0</td>\n",
       "      <td>165.0</td>\n",
       "      <td>150.0</td>\n",
       "      <td>150.0</td>\n",
       "      <td>140.0</td>\n",
       "    </tr>\n",
       "    <tr>\n",
       "      <th>weight</th>\n",
       "      <td>3504</td>\n",
       "      <td>3693</td>\n",
       "      <td>3436</td>\n",
       "      <td>3433</td>\n",
       "      <td>3449</td>\n",
       "    </tr>\n",
       "    <tr>\n",
       "      <th>acceleration</th>\n",
       "      <td>12.0</td>\n",
       "      <td>11.5</td>\n",
       "      <td>11.0</td>\n",
       "      <td>12.0</td>\n",
       "      <td>10.5</td>\n",
       "    </tr>\n",
       "    <tr>\n",
       "      <th>year</th>\n",
       "      <td>1970</td>\n",
       "      <td>1970</td>\n",
       "      <td>1970</td>\n",
       "      <td>1970</td>\n",
       "      <td>1970</td>\n",
       "    </tr>\n",
       "    <tr>\n",
       "      <th>name</th>\n",
       "      <td>chevrolet chevelle malibu</td>\n",
       "      <td>buick skylark 320</td>\n",
       "      <td>plymouth satellite</td>\n",
       "      <td>amc rebel sst</td>\n",
       "      <td>ford torino</td>\n",
       "    </tr>\n",
       "    <tr>\n",
       "      <th>Kilometer_per_liter</th>\n",
       "      <td>7.652587</td>\n",
       "      <td>6.377156</td>\n",
       "      <td>7.652587</td>\n",
       "      <td>6.802299</td>\n",
       "      <td>7.227443</td>\n",
       "    </tr>\n",
       "  </tbody>\n",
       "</table>\n",
       "</div>"
      ],
      "text/plain": [
       "                                             0                  1  \\\n",
       "origin                                       1                  1   \n",
       "cylinders                                    8                  8   \n",
       "displacement                             307.0              350.0   \n",
       "horsepower                               130.0              165.0   \n",
       "weight                                    3504               3693   \n",
       "acceleration                              12.0               11.5   \n",
       "year                                      1970               1970   \n",
       "name                 chevrolet chevelle malibu  buick skylark 320   \n",
       "Kilometer_per_liter                   7.652587           6.377156   \n",
       "\n",
       "                                      2              3            4  \n",
       "origin                                1              1            1  \n",
       "cylinders                             8              8            8  \n",
       "displacement                      318.0          304.0        302.0  \n",
       "horsepower                        150.0          150.0        140.0  \n",
       "weight                             3436           3433         3449  \n",
       "acceleration                       11.0           12.0         10.5  \n",
       "year                               1970           1970         1970  \n",
       "name                 plymouth satellite  amc rebel sst  ford torino  \n",
       "Kilometer_per_liter            7.652587       6.802299     7.227443  "
      ]
     },
     "execution_count": 136,
     "metadata": {},
     "output_type": "execute_result"
    }
   ],
   "source": [
    "df.head().transpose()"
   ]
  },
  {
   "cell_type": "code",
   "execution_count": 137,
   "id": "85f63c98",
   "metadata": {},
   "outputs": [
    {
     "name": "stdout",
     "output_type": "stream",
     "text": [
      "<class 'pandas.core.frame.DataFrame'>\n",
      "RangeIndex: 398 entries, 0 to 397\n",
      "Data columns (total 9 columns):\n",
      " #   Column               Non-Null Count  Dtype  \n",
      "---  ------               --------------  -----  \n",
      " 0   origin               398 non-null    int64  \n",
      " 1   cylinders            398 non-null    int64  \n",
      " 2   displacement         398 non-null    float64\n",
      " 3   horsepower           392 non-null    float64\n",
      " 4   weight               398 non-null    int64  \n",
      " 5   acceleration         398 non-null    float64\n",
      " 6   year                 398 non-null    int64  \n",
      " 7   name                 398 non-null    object \n",
      " 8   Kilometer_per_liter  398 non-null    float64\n",
      "dtypes: float64(4), int64(4), object(1)\n",
      "memory usage: 28.1+ KB\n"
     ]
    }
   ],
   "source": [
    "df.info()"
   ]
  },
  {
   "cell_type": "code",
   "execution_count": 138,
   "id": "28d08a91",
   "metadata": {},
   "outputs": [
    {
     "data": {
      "text/plain": [
       "origin                 0\n",
       "cylinders              0\n",
       "displacement           0\n",
       "horsepower             6\n",
       "weight                 0\n",
       "acceleration           0\n",
       "year                   0\n",
       "name                   0\n",
       "Kilometer_per_liter    0\n",
       "dtype: int64"
      ]
     },
     "execution_count": 138,
     "metadata": {},
     "output_type": "execute_result"
    }
   ],
   "source": [
    "df.isnull().sum()"
   ]
  },
  {
   "cell_type": "code",
   "execution_count": 139,
   "id": "c5f7cc33",
   "metadata": {},
   "outputs": [
    {
     "name": "stdout",
     "output_type": "stream",
     "text": [
      "<class 'pandas.core.frame.DataFrame'>\n",
      "RangeIndex: 398 entries, 0 to 397\n",
      "Data columns (total 9 columns):\n",
      " #   Column               Non-Null Count  Dtype   \n",
      "---  ------               --------------  -----   \n",
      " 0   origin               398 non-null    category\n",
      " 1   cylinders            398 non-null    int64   \n",
      " 2   displacement         398 non-null    float64 \n",
      " 3   horsepower           392 non-null    float64 \n",
      " 4   weight               398 non-null    int64   \n",
      " 5   acceleration         398 non-null    float64 \n",
      " 6   year                 398 non-null    int64   \n",
      " 7   name                 398 non-null    object  \n",
      " 8   Kilometer_per_liter  398 non-null    float64 \n",
      "dtypes: category(1), float64(4), int64(3), object(1)\n",
      "memory usage: 25.5+ KB\n"
     ]
    }
   ],
   "source": [
    "df.origin=df.origin.astype(\"category\")\n",
    "df.info()"
   ]
  },
  {
   "cell_type": "code",
   "execution_count": 140,
   "id": "a59eaafb",
   "metadata": {},
   "outputs": [
    {
     "name": "stdout",
     "output_type": "stream",
     "text": [
      "<class 'pandas.core.frame.DataFrame'>\n",
      "RangeIndex: 398 entries, 0 to 397\n",
      "Data columns (total 9 columns):\n",
      " #   Column               Non-Null Count  Dtype   \n",
      "---  ------               --------------  -----   \n",
      " 0   origin               398 non-null    category\n",
      " 1   cylinders            398 non-null    category\n",
      " 2   displacement         398 non-null    float64 \n",
      " 3   horsepower           392 non-null    float64 \n",
      " 4   weight               398 non-null    int64   \n",
      " 5   acceleration         398 non-null    float64 \n",
      " 6   year                 398 non-null    int64   \n",
      " 7   name                 398 non-null    object  \n",
      " 8   Kilometer_per_liter  398 non-null    float64 \n",
      "dtypes: category(2), float64(4), int64(2), object(1)\n",
      "memory usage: 23.0+ KB\n"
     ]
    }
   ],
   "source": [
    "df.cylinders=df.cylinders.astype(\"category\")\n",
    "df.info()"
   ]
  },
  {
   "cell_type": "markdown",
   "id": "ec7e46ca",
   "metadata": {},
   "source": [
    "#### to drop name and year colunns( coz name is unique in each instant and year does not affect the kmpl)\n"
   ]
  },
  {
   "cell_type": "code",
   "execution_count": 141,
   "id": "0d9e5d12",
   "metadata": {},
   "outputs": [
    {
     "data": {
      "text/html": [
       "<div>\n",
       "<style scoped>\n",
       "    .dataframe tbody tr th:only-of-type {\n",
       "        vertical-align: middle;\n",
       "    }\n",
       "\n",
       "    .dataframe tbody tr th {\n",
       "        vertical-align: top;\n",
       "    }\n",
       "\n",
       "    .dataframe thead th {\n",
       "        text-align: right;\n",
       "    }\n",
       "</style>\n",
       "<table border=\"1\" class=\"dataframe\">\n",
       "  <thead>\n",
       "    <tr style=\"text-align: right;\">\n",
       "      <th></th>\n",
       "      <th>origin</th>\n",
       "      <th>cylinders</th>\n",
       "      <th>displacement</th>\n",
       "      <th>horsepower</th>\n",
       "      <th>weight</th>\n",
       "      <th>acceleration</th>\n",
       "      <th>Kilometer_per_liter</th>\n",
       "    </tr>\n",
       "  </thead>\n",
       "  <tbody>\n",
       "    <tr>\n",
       "      <th>0</th>\n",
       "      <td>1</td>\n",
       "      <td>8</td>\n",
       "      <td>307.0</td>\n",
       "      <td>130.0</td>\n",
       "      <td>3504</td>\n",
       "      <td>12.0</td>\n",
       "      <td>7.652587</td>\n",
       "    </tr>\n",
       "    <tr>\n",
       "      <th>1</th>\n",
       "      <td>1</td>\n",
       "      <td>8</td>\n",
       "      <td>350.0</td>\n",
       "      <td>165.0</td>\n",
       "      <td>3693</td>\n",
       "      <td>11.5</td>\n",
       "      <td>6.377156</td>\n",
       "    </tr>\n",
       "    <tr>\n",
       "      <th>2</th>\n",
       "      <td>1</td>\n",
       "      <td>8</td>\n",
       "      <td>318.0</td>\n",
       "      <td>150.0</td>\n",
       "      <td>3436</td>\n",
       "      <td>11.0</td>\n",
       "      <td>7.652587</td>\n",
       "    </tr>\n",
       "    <tr>\n",
       "      <th>3</th>\n",
       "      <td>1</td>\n",
       "      <td>8</td>\n",
       "      <td>304.0</td>\n",
       "      <td>150.0</td>\n",
       "      <td>3433</td>\n",
       "      <td>12.0</td>\n",
       "      <td>6.802299</td>\n",
       "    </tr>\n",
       "    <tr>\n",
       "      <th>4</th>\n",
       "      <td>1</td>\n",
       "      <td>8</td>\n",
       "      <td>302.0</td>\n",
       "      <td>140.0</td>\n",
       "      <td>3449</td>\n",
       "      <td>10.5</td>\n",
       "      <td>7.227443</td>\n",
       "    </tr>\n",
       "    <tr>\n",
       "      <th>...</th>\n",
       "      <td>...</td>\n",
       "      <td>...</td>\n",
       "      <td>...</td>\n",
       "      <td>...</td>\n",
       "      <td>...</td>\n",
       "      <td>...</td>\n",
       "      <td>...</td>\n",
       "    </tr>\n",
       "    <tr>\n",
       "      <th>393</th>\n",
       "      <td>1</td>\n",
       "      <td>4</td>\n",
       "      <td>140.0</td>\n",
       "      <td>86.0</td>\n",
       "      <td>2790</td>\n",
       "      <td>15.6</td>\n",
       "      <td>11.478880</td>\n",
       "    </tr>\n",
       "    <tr>\n",
       "      <th>394</th>\n",
       "      <td>2</td>\n",
       "      <td>4</td>\n",
       "      <td>97.0</td>\n",
       "      <td>52.0</td>\n",
       "      <td>2130</td>\n",
       "      <td>24.6</td>\n",
       "      <td>18.706323</td>\n",
       "    </tr>\n",
       "    <tr>\n",
       "      <th>395</th>\n",
       "      <td>1</td>\n",
       "      <td>4</td>\n",
       "      <td>135.0</td>\n",
       "      <td>84.0</td>\n",
       "      <td>2295</td>\n",
       "      <td>11.6</td>\n",
       "      <td>13.604599</td>\n",
       "    </tr>\n",
       "    <tr>\n",
       "      <th>396</th>\n",
       "      <td>1</td>\n",
       "      <td>4</td>\n",
       "      <td>120.0</td>\n",
       "      <td>79.0</td>\n",
       "      <td>2625</td>\n",
       "      <td>18.6</td>\n",
       "      <td>11.904024</td>\n",
       "    </tr>\n",
       "    <tr>\n",
       "      <th>397</th>\n",
       "      <td>1</td>\n",
       "      <td>4</td>\n",
       "      <td>119.0</td>\n",
       "      <td>82.0</td>\n",
       "      <td>2720</td>\n",
       "      <td>19.4</td>\n",
       "      <td>13.179455</td>\n",
       "    </tr>\n",
       "  </tbody>\n",
       "</table>\n",
       "<p>398 rows × 7 columns</p>\n",
       "</div>"
      ],
      "text/plain": [
       "    origin cylinders  displacement  horsepower  weight  acceleration  \\\n",
       "0        1         8         307.0       130.0    3504          12.0   \n",
       "1        1         8         350.0       165.0    3693          11.5   \n",
       "2        1         8         318.0       150.0    3436          11.0   \n",
       "3        1         8         304.0       150.0    3433          12.0   \n",
       "4        1         8         302.0       140.0    3449          10.5   \n",
       "..     ...       ...           ...         ...     ...           ...   \n",
       "393      1         4         140.0        86.0    2790          15.6   \n",
       "394      2         4          97.0        52.0    2130          24.6   \n",
       "395      1         4         135.0        84.0    2295          11.6   \n",
       "396      1         4         120.0        79.0    2625          18.6   \n",
       "397      1         4         119.0        82.0    2720          19.4   \n",
       "\n",
       "     Kilometer_per_liter  \n",
       "0               7.652587  \n",
       "1               6.377156  \n",
       "2               7.652587  \n",
       "3               6.802299  \n",
       "4               7.227443  \n",
       "..                   ...  \n",
       "393            11.478880  \n",
       "394            18.706323  \n",
       "395            13.604599  \n",
       "396            11.904024  \n",
       "397            13.179455  \n",
       "\n",
       "[398 rows x 7 columns]"
      ]
     },
     "execution_count": 141,
     "metadata": {},
     "output_type": "execute_result"
    }
   ],
   "source": [
    "df1=df.drop(columns=['year','name'],axis=1)\n",
    "df1"
   ]
  },
  {
   "cell_type": "markdown",
   "id": "8da622e9",
   "metadata": {},
   "source": [
    "#### to remove the 6 NAN values in horse power(coz 6 values doesnt affect the whole distribution and it was gn as ? in data and we repleced it with NAN)"
   ]
  },
  {
   "cell_type": "code",
   "execution_count": 142,
   "id": "c958dc11",
   "metadata": {},
   "outputs": [
    {
     "data": {
      "text/plain": [
       "Int64Index([32, 126, 330, 336, 354, 374], dtype='int64')"
      ]
     },
     "execution_count": 142,
     "metadata": {},
     "output_type": "execute_result"
    }
   ],
   "source": [
    "drop_NAN=df1[df1['horsepower'].isna()].index   #for dropping the NAn values\n",
    "drop_NAN"
   ]
  },
  {
   "cell_type": "markdown",
   "id": "e8836ac8",
   "metadata": {},
   "source": [
    "## DF2 is the dataset after dropping 6 Nan values"
   ]
  },
  {
   "cell_type": "code",
   "execution_count": 143,
   "id": "2942457d",
   "metadata": {
    "scrolled": true
   },
   "outputs": [
    {
     "data": {
      "text/html": [
       "<div>\n",
       "<style scoped>\n",
       "    .dataframe tbody tr th:only-of-type {\n",
       "        vertical-align: middle;\n",
       "    }\n",
       "\n",
       "    .dataframe tbody tr th {\n",
       "        vertical-align: top;\n",
       "    }\n",
       "\n",
       "    .dataframe thead th {\n",
       "        text-align: right;\n",
       "    }\n",
       "</style>\n",
       "<table border=\"1\" class=\"dataframe\">\n",
       "  <thead>\n",
       "    <tr style=\"text-align: right;\">\n",
       "      <th></th>\n",
       "      <th>origin</th>\n",
       "      <th>cylinders</th>\n",
       "      <th>displacement</th>\n",
       "      <th>horsepower</th>\n",
       "      <th>weight</th>\n",
       "      <th>acceleration</th>\n",
       "      <th>Kilometer_per_liter</th>\n",
       "    </tr>\n",
       "  </thead>\n",
       "  <tbody>\n",
       "    <tr>\n",
       "      <th>0</th>\n",
       "      <td>1</td>\n",
       "      <td>8</td>\n",
       "      <td>307.0</td>\n",
       "      <td>130.0</td>\n",
       "      <td>3504</td>\n",
       "      <td>12.0</td>\n",
       "      <td>7.652587</td>\n",
       "    </tr>\n",
       "    <tr>\n",
       "      <th>1</th>\n",
       "      <td>1</td>\n",
       "      <td>8</td>\n",
       "      <td>350.0</td>\n",
       "      <td>165.0</td>\n",
       "      <td>3693</td>\n",
       "      <td>11.5</td>\n",
       "      <td>6.377156</td>\n",
       "    </tr>\n",
       "    <tr>\n",
       "      <th>2</th>\n",
       "      <td>1</td>\n",
       "      <td>8</td>\n",
       "      <td>318.0</td>\n",
       "      <td>150.0</td>\n",
       "      <td>3436</td>\n",
       "      <td>11.0</td>\n",
       "      <td>7.652587</td>\n",
       "    </tr>\n",
       "    <tr>\n",
       "      <th>3</th>\n",
       "      <td>1</td>\n",
       "      <td>8</td>\n",
       "      <td>304.0</td>\n",
       "      <td>150.0</td>\n",
       "      <td>3433</td>\n",
       "      <td>12.0</td>\n",
       "      <td>6.802299</td>\n",
       "    </tr>\n",
       "    <tr>\n",
       "      <th>4</th>\n",
       "      <td>1</td>\n",
       "      <td>8</td>\n",
       "      <td>302.0</td>\n",
       "      <td>140.0</td>\n",
       "      <td>3449</td>\n",
       "      <td>10.5</td>\n",
       "      <td>7.227443</td>\n",
       "    </tr>\n",
       "    <tr>\n",
       "      <th>...</th>\n",
       "      <td>...</td>\n",
       "      <td>...</td>\n",
       "      <td>...</td>\n",
       "      <td>...</td>\n",
       "      <td>...</td>\n",
       "      <td>...</td>\n",
       "      <td>...</td>\n",
       "    </tr>\n",
       "    <tr>\n",
       "      <th>393</th>\n",
       "      <td>1</td>\n",
       "      <td>4</td>\n",
       "      <td>140.0</td>\n",
       "      <td>86.0</td>\n",
       "      <td>2790</td>\n",
       "      <td>15.6</td>\n",
       "      <td>11.478880</td>\n",
       "    </tr>\n",
       "    <tr>\n",
       "      <th>394</th>\n",
       "      <td>2</td>\n",
       "      <td>4</td>\n",
       "      <td>97.0</td>\n",
       "      <td>52.0</td>\n",
       "      <td>2130</td>\n",
       "      <td>24.6</td>\n",
       "      <td>18.706323</td>\n",
       "    </tr>\n",
       "    <tr>\n",
       "      <th>395</th>\n",
       "      <td>1</td>\n",
       "      <td>4</td>\n",
       "      <td>135.0</td>\n",
       "      <td>84.0</td>\n",
       "      <td>2295</td>\n",
       "      <td>11.6</td>\n",
       "      <td>13.604599</td>\n",
       "    </tr>\n",
       "    <tr>\n",
       "      <th>396</th>\n",
       "      <td>1</td>\n",
       "      <td>4</td>\n",
       "      <td>120.0</td>\n",
       "      <td>79.0</td>\n",
       "      <td>2625</td>\n",
       "      <td>18.6</td>\n",
       "      <td>11.904024</td>\n",
       "    </tr>\n",
       "    <tr>\n",
       "      <th>397</th>\n",
       "      <td>1</td>\n",
       "      <td>4</td>\n",
       "      <td>119.0</td>\n",
       "      <td>82.0</td>\n",
       "      <td>2720</td>\n",
       "      <td>19.4</td>\n",
       "      <td>13.179455</td>\n",
       "    </tr>\n",
       "  </tbody>\n",
       "</table>\n",
       "<p>392 rows × 7 columns</p>\n",
       "</div>"
      ],
      "text/plain": [
       "    origin cylinders  displacement  horsepower  weight  acceleration  \\\n",
       "0        1         8         307.0       130.0    3504          12.0   \n",
       "1        1         8         350.0       165.0    3693          11.5   \n",
       "2        1         8         318.0       150.0    3436          11.0   \n",
       "3        1         8         304.0       150.0    3433          12.0   \n",
       "4        1         8         302.0       140.0    3449          10.5   \n",
       "..     ...       ...           ...         ...     ...           ...   \n",
       "393      1         4         140.0        86.0    2790          15.6   \n",
       "394      2         4          97.0        52.0    2130          24.6   \n",
       "395      1         4         135.0        84.0    2295          11.6   \n",
       "396      1         4         120.0        79.0    2625          18.6   \n",
       "397      1         4         119.0        82.0    2720          19.4   \n",
       "\n",
       "     Kilometer_per_liter  \n",
       "0               7.652587  \n",
       "1               6.377156  \n",
       "2               7.652587  \n",
       "3               6.802299  \n",
       "4               7.227443  \n",
       "..                   ...  \n",
       "393            11.478880  \n",
       "394            18.706323  \n",
       "395            13.604599  \n",
       "396            11.904024  \n",
       "397            13.179455  \n",
       "\n",
       "[392 rows x 7 columns]"
      ]
     },
     "execution_count": 143,
     "metadata": {},
     "output_type": "execute_result"
    }
   ],
   "source": [
    "df2=df1.drop(index=drop_NAN,axis=0)\n",
    "df2"
   ]
  },
  {
   "cell_type": "code",
   "execution_count": 144,
   "id": "561d7fe5",
   "metadata": {},
   "outputs": [
    {
     "data": {
      "text/plain": [
       "origin                 0\n",
       "cylinders              0\n",
       "displacement           0\n",
       "horsepower             0\n",
       "weight                 0\n",
       "acceleration           0\n",
       "Kilometer_per_liter    0\n",
       "dtype: int64"
      ]
     },
     "execution_count": 144,
     "metadata": {},
     "output_type": "execute_result"
    }
   ],
   "source": [
    "df2.isna().sum()"
   ]
  },
  {
   "cell_type": "markdown",
   "id": "84c92f8e",
   "metadata": {},
   "source": [
    "#### Split DV and IDV(cat and num)"
   ]
  },
  {
   "cell_type": "code",
   "execution_count": 145,
   "id": "8a7a455f",
   "metadata": {},
   "outputs": [
    {
     "data": {
      "text/html": [
       "<div>\n",
       "<style scoped>\n",
       "    .dataframe tbody tr th:only-of-type {\n",
       "        vertical-align: middle;\n",
       "    }\n",
       "\n",
       "    .dataframe tbody tr th {\n",
       "        vertical-align: top;\n",
       "    }\n",
       "\n",
       "    .dataframe thead th {\n",
       "        text-align: right;\n",
       "    }\n",
       "</style>\n",
       "<table border=\"1\" class=\"dataframe\">\n",
       "  <thead>\n",
       "    <tr style=\"text-align: right;\">\n",
       "      <th></th>\n",
       "      <th>origin</th>\n",
       "      <th>cylinders</th>\n",
       "      <th>displacement</th>\n",
       "      <th>horsepower</th>\n",
       "      <th>weight</th>\n",
       "      <th>acceleration</th>\n",
       "    </tr>\n",
       "  </thead>\n",
       "  <tbody>\n",
       "    <tr>\n",
       "      <th>0</th>\n",
       "      <td>1</td>\n",
       "      <td>8</td>\n",
       "      <td>307.0</td>\n",
       "      <td>130.0</td>\n",
       "      <td>3504</td>\n",
       "      <td>12.0</td>\n",
       "    </tr>\n",
       "    <tr>\n",
       "      <th>1</th>\n",
       "      <td>1</td>\n",
       "      <td>8</td>\n",
       "      <td>350.0</td>\n",
       "      <td>165.0</td>\n",
       "      <td>3693</td>\n",
       "      <td>11.5</td>\n",
       "    </tr>\n",
       "    <tr>\n",
       "      <th>2</th>\n",
       "      <td>1</td>\n",
       "      <td>8</td>\n",
       "      <td>318.0</td>\n",
       "      <td>150.0</td>\n",
       "      <td>3436</td>\n",
       "      <td>11.0</td>\n",
       "    </tr>\n",
       "    <tr>\n",
       "      <th>3</th>\n",
       "      <td>1</td>\n",
       "      <td>8</td>\n",
       "      <td>304.0</td>\n",
       "      <td>150.0</td>\n",
       "      <td>3433</td>\n",
       "      <td>12.0</td>\n",
       "    </tr>\n",
       "    <tr>\n",
       "      <th>4</th>\n",
       "      <td>1</td>\n",
       "      <td>8</td>\n",
       "      <td>302.0</td>\n",
       "      <td>140.0</td>\n",
       "      <td>3449</td>\n",
       "      <td>10.5</td>\n",
       "    </tr>\n",
       "    <tr>\n",
       "      <th>...</th>\n",
       "      <td>...</td>\n",
       "      <td>...</td>\n",
       "      <td>...</td>\n",
       "      <td>...</td>\n",
       "      <td>...</td>\n",
       "      <td>...</td>\n",
       "    </tr>\n",
       "    <tr>\n",
       "      <th>393</th>\n",
       "      <td>1</td>\n",
       "      <td>4</td>\n",
       "      <td>140.0</td>\n",
       "      <td>86.0</td>\n",
       "      <td>2790</td>\n",
       "      <td>15.6</td>\n",
       "    </tr>\n",
       "    <tr>\n",
       "      <th>394</th>\n",
       "      <td>2</td>\n",
       "      <td>4</td>\n",
       "      <td>97.0</td>\n",
       "      <td>52.0</td>\n",
       "      <td>2130</td>\n",
       "      <td>24.6</td>\n",
       "    </tr>\n",
       "    <tr>\n",
       "      <th>395</th>\n",
       "      <td>1</td>\n",
       "      <td>4</td>\n",
       "      <td>135.0</td>\n",
       "      <td>84.0</td>\n",
       "      <td>2295</td>\n",
       "      <td>11.6</td>\n",
       "    </tr>\n",
       "    <tr>\n",
       "      <th>396</th>\n",
       "      <td>1</td>\n",
       "      <td>4</td>\n",
       "      <td>120.0</td>\n",
       "      <td>79.0</td>\n",
       "      <td>2625</td>\n",
       "      <td>18.6</td>\n",
       "    </tr>\n",
       "    <tr>\n",
       "      <th>397</th>\n",
       "      <td>1</td>\n",
       "      <td>4</td>\n",
       "      <td>119.0</td>\n",
       "      <td>82.0</td>\n",
       "      <td>2720</td>\n",
       "      <td>19.4</td>\n",
       "    </tr>\n",
       "  </tbody>\n",
       "</table>\n",
       "<p>392 rows × 6 columns</p>\n",
       "</div>"
      ],
      "text/plain": [
       "    origin cylinders  displacement  horsepower  weight  acceleration\n",
       "0        1         8         307.0       130.0    3504          12.0\n",
       "1        1         8         350.0       165.0    3693          11.5\n",
       "2        1         8         318.0       150.0    3436          11.0\n",
       "3        1         8         304.0       150.0    3433          12.0\n",
       "4        1         8         302.0       140.0    3449          10.5\n",
       "..     ...       ...           ...         ...     ...           ...\n",
       "393      1         4         140.0        86.0    2790          15.6\n",
       "394      2         4          97.0        52.0    2130          24.6\n",
       "395      1         4         135.0        84.0    2295          11.6\n",
       "396      1         4         120.0        79.0    2625          18.6\n",
       "397      1         4         119.0        82.0    2720          19.4\n",
       "\n",
       "[392 rows x 6 columns]"
      ]
     },
     "execution_count": 145,
     "metadata": {},
     "output_type": "execute_result"
    }
   ],
   "source": [
    "IDV=df2.iloc[:,:-1]\n",
    "IDV"
   ]
  },
  {
   "cell_type": "code",
   "execution_count": 146,
   "id": "e22dadec",
   "metadata": {},
   "outputs": [
    {
     "data": {
      "text/html": [
       "<div>\n",
       "<style scoped>\n",
       "    .dataframe tbody tr th:only-of-type {\n",
       "        vertical-align: middle;\n",
       "    }\n",
       "\n",
       "    .dataframe tbody tr th {\n",
       "        vertical-align: top;\n",
       "    }\n",
       "\n",
       "    .dataframe thead th {\n",
       "        text-align: right;\n",
       "    }\n",
       "</style>\n",
       "<table border=\"1\" class=\"dataframe\">\n",
       "  <thead>\n",
       "    <tr style=\"text-align: right;\">\n",
       "      <th></th>\n",
       "      <th>displacement</th>\n",
       "      <th>horsepower</th>\n",
       "      <th>weight</th>\n",
       "      <th>acceleration</th>\n",
       "    </tr>\n",
       "  </thead>\n",
       "  <tbody>\n",
       "    <tr>\n",
       "      <th>0</th>\n",
       "      <td>307.0</td>\n",
       "      <td>130.0</td>\n",
       "      <td>3504</td>\n",
       "      <td>12.0</td>\n",
       "    </tr>\n",
       "    <tr>\n",
       "      <th>1</th>\n",
       "      <td>350.0</td>\n",
       "      <td>165.0</td>\n",
       "      <td>3693</td>\n",
       "      <td>11.5</td>\n",
       "    </tr>\n",
       "    <tr>\n",
       "      <th>2</th>\n",
       "      <td>318.0</td>\n",
       "      <td>150.0</td>\n",
       "      <td>3436</td>\n",
       "      <td>11.0</td>\n",
       "    </tr>\n",
       "    <tr>\n",
       "      <th>3</th>\n",
       "      <td>304.0</td>\n",
       "      <td>150.0</td>\n",
       "      <td>3433</td>\n",
       "      <td>12.0</td>\n",
       "    </tr>\n",
       "    <tr>\n",
       "      <th>4</th>\n",
       "      <td>302.0</td>\n",
       "      <td>140.0</td>\n",
       "      <td>3449</td>\n",
       "      <td>10.5</td>\n",
       "    </tr>\n",
       "  </tbody>\n",
       "</table>\n",
       "</div>"
      ],
      "text/plain": [
       "   displacement  horsepower  weight  acceleration\n",
       "0         307.0       130.0    3504          12.0\n",
       "1         350.0       165.0    3693          11.5\n",
       "2         318.0       150.0    3436          11.0\n",
       "3         304.0       150.0    3433          12.0\n",
       "4         302.0       140.0    3449          10.5"
      ]
     },
     "execution_count": 146,
     "metadata": {},
     "output_type": "execute_result"
    }
   ],
   "source": [
    "IDV_NUM=IDV.iloc[:,2:6]\n",
    "IDV_NUM.head()"
   ]
  },
  {
   "cell_type": "code",
   "execution_count": 147,
   "id": "d5eeb0be",
   "metadata": {
    "scrolled": true
   },
   "outputs": [
    {
     "data": {
      "text/html": [
       "<div>\n",
       "<style scoped>\n",
       "    .dataframe tbody tr th:only-of-type {\n",
       "        vertical-align: middle;\n",
       "    }\n",
       "\n",
       "    .dataframe tbody tr th {\n",
       "        vertical-align: top;\n",
       "    }\n",
       "\n",
       "    .dataframe thead th {\n",
       "        text-align: right;\n",
       "    }\n",
       "</style>\n",
       "<table border=\"1\" class=\"dataframe\">\n",
       "  <thead>\n",
       "    <tr style=\"text-align: right;\">\n",
       "      <th></th>\n",
       "      <th>origin</th>\n",
       "      <th>cylinders</th>\n",
       "    </tr>\n",
       "  </thead>\n",
       "  <tbody>\n",
       "    <tr>\n",
       "      <th>0</th>\n",
       "      <td>1</td>\n",
       "      <td>8</td>\n",
       "    </tr>\n",
       "    <tr>\n",
       "      <th>1</th>\n",
       "      <td>1</td>\n",
       "      <td>8</td>\n",
       "    </tr>\n",
       "    <tr>\n",
       "      <th>2</th>\n",
       "      <td>1</td>\n",
       "      <td>8</td>\n",
       "    </tr>\n",
       "    <tr>\n",
       "      <th>3</th>\n",
       "      <td>1</td>\n",
       "      <td>8</td>\n",
       "    </tr>\n",
       "    <tr>\n",
       "      <th>4</th>\n",
       "      <td>1</td>\n",
       "      <td>8</td>\n",
       "    </tr>\n",
       "  </tbody>\n",
       "</table>\n",
       "</div>"
      ],
      "text/plain": [
       "  origin cylinders\n",
       "0      1         8\n",
       "1      1         8\n",
       "2      1         8\n",
       "3      1         8\n",
       "4      1         8"
      ]
     },
     "execution_count": 147,
     "metadata": {},
     "output_type": "execute_result"
    }
   ],
   "source": [
    "IDV_CAT=IDV[[\"origin\",\"cylinders\"]]\n",
    "IDV_CAT.head()"
   ]
  },
  {
   "cell_type": "code",
   "execution_count": 148,
   "id": "6afd1825",
   "metadata": {},
   "outputs": [
    {
     "data": {
      "text/plain": [
       "0    7.652587\n",
       "1    6.377156\n",
       "2    7.652587\n",
       "3    6.802299\n",
       "4    7.227443\n",
       "Name: Kilometer_per_liter, dtype: float64"
      ]
     },
     "execution_count": 148,
     "metadata": {},
     "output_type": "execute_result"
    }
   ],
   "source": [
    "DV=df2.iloc[:,-1]\n",
    "DV.head()"
   ]
  },
  {
   "cell_type": "code",
   "execution_count": 149,
   "id": "58298d1e",
   "metadata": {},
   "outputs": [
    {
     "data": {
      "text/html": [
       "<div>\n",
       "<style scoped>\n",
       "    .dataframe tbody tr th:only-of-type {\n",
       "        vertical-align: middle;\n",
       "    }\n",
       "\n",
       "    .dataframe tbody tr th {\n",
       "        vertical-align: top;\n",
       "    }\n",
       "\n",
       "    .dataframe thead th {\n",
       "        text-align: right;\n",
       "    }\n",
       "</style>\n",
       "<table border=\"1\" class=\"dataframe\">\n",
       "  <thead>\n",
       "    <tr style=\"text-align: right;\">\n",
       "      <th></th>\n",
       "      <th>displacement</th>\n",
       "      <th>horsepower</th>\n",
       "      <th>weight</th>\n",
       "      <th>acceleration</th>\n",
       "      <th>Kilometer_per_liter</th>\n",
       "    </tr>\n",
       "  </thead>\n",
       "  <tbody>\n",
       "    <tr>\n",
       "      <th>0</th>\n",
       "      <td>307.0</td>\n",
       "      <td>130.0</td>\n",
       "      <td>3504</td>\n",
       "      <td>12.0</td>\n",
       "      <td>7.652587</td>\n",
       "    </tr>\n",
       "    <tr>\n",
       "      <th>1</th>\n",
       "      <td>350.0</td>\n",
       "      <td>165.0</td>\n",
       "      <td>3693</td>\n",
       "      <td>11.5</td>\n",
       "      <td>6.377156</td>\n",
       "    </tr>\n",
       "    <tr>\n",
       "      <th>2</th>\n",
       "      <td>318.0</td>\n",
       "      <td>150.0</td>\n",
       "      <td>3436</td>\n",
       "      <td>11.0</td>\n",
       "      <td>7.652587</td>\n",
       "    </tr>\n",
       "    <tr>\n",
       "      <th>3</th>\n",
       "      <td>304.0</td>\n",
       "      <td>150.0</td>\n",
       "      <td>3433</td>\n",
       "      <td>12.0</td>\n",
       "      <td>6.802299</td>\n",
       "    </tr>\n",
       "    <tr>\n",
       "      <th>4</th>\n",
       "      <td>302.0</td>\n",
       "      <td>140.0</td>\n",
       "      <td>3449</td>\n",
       "      <td>10.5</td>\n",
       "      <td>7.227443</td>\n",
       "    </tr>\n",
       "  </tbody>\n",
       "</table>\n",
       "</div>"
      ],
      "text/plain": [
       "   displacement  horsepower  weight  acceleration  Kilometer_per_liter\n",
       "0         307.0       130.0    3504          12.0             7.652587\n",
       "1         350.0       165.0    3693          11.5             6.377156\n",
       "2         318.0       150.0    3436          11.0             7.652587\n",
       "3         304.0       150.0    3433          12.0             6.802299\n",
       "4         302.0       140.0    3449          10.5             7.227443"
      ]
     },
     "execution_count": 149,
     "metadata": {},
     "output_type": "execute_result"
    }
   ],
   "source": [
    "DV_IDVNUM=df2.iloc[:,2:7]\n",
    "DV_IDVNUM.head()"
   ]
  },
  {
   "cell_type": "markdown",
   "id": "0fe45cba",
   "metadata": {},
   "source": [
    "#### Univariate Analysis"
   ]
  },
  {
   "cell_type": "markdown",
   "id": "e4385b57",
   "metadata": {},
   "source": [
    "#### KDE plot to check DV is normal"
   ]
  },
  {
   "cell_type": "code",
   "execution_count": 150,
   "id": "1af3e70f",
   "metadata": {},
   "outputs": [
    {
     "data": {
      "text/plain": [
       "<AxesSubplot:xlabel='Kilometer_per_liter', ylabel='Density'>"
      ]
     },
     "execution_count": 150,
     "metadata": {},
     "output_type": "execute_result"
    },
    {
     "data": {
      "image/png": "[encoded data removed]",
      "text/plain": [
       "<Figure size 432x288 with 1 Axes>"
      ]
     },
     "metadata": {
      "needs_background": "light"
     },
     "output_type": "display_data"
    }
   ],
   "source": [
    "sns.kdeplot(DV)"
   ]
  },
  {
   "cell_type": "markdown",
   "id": "c27c85d8",
   "metadata": {},
   "source": [
    "### NON GRAPHICAL TESTS:"
   ]
  },
  {
   "cell_type": "markdown",
   "id": "ccb0edfa",
   "metadata": {},
   "source": [
    "#### Statistical test made to check the significance of DV and to check its normality"
   ]
  },
  {
   "cell_type": "markdown",
   "id": "67967e21",
   "metadata": {},
   "source": [
    "#### PearsonR test:"
   ]
  },
  {
   "cell_type": "code",
   "execution_count": 151,
   "id": "f1d5fd4b",
   "metadata": {},
   "outputs": [],
   "source": [
    "from scipy.stats import pearsonr"
   ]
  },
  {
   "cell_type": "code",
   "execution_count": 152,
   "id": "221caa0f",
   "metadata": {},
   "outputs": [
    {
     "name": "stdout",
     "output_type": "stream",
     "text": [
      "displacement -0.8051269467334895 1.6606417936102427e-90\n",
      "There is Significant relation.\n",
      "\n",
      "horsepower -0.7784267839110668 7.031988957281258e-81\n",
      "There is Significant relation.\n",
      "\n",
      "weight -0.8322442148558428 6.01529589711527e-102\n",
      "There is Significant relation.\n",
      "\n",
      "acceleration 0.4233285368825963 1.778576132110161e-18\n",
      "There is Significant relation.\n",
      "\n"
     ]
    }
   ],
   "source": [
    "for i in IDV_NUM:\n",
    "    r,p=pearsonr(DV,IDV_NUM[i])\n",
    "    print(i,r,p)\n",
    "    if p>0.05:\n",
    "        print(\"There is No Significant relation between our correlation value and zero.\")\n",
    "    else:\n",
    "        print(\"There is Significant relation.\")\n",
    "        print()"
   ]
  },
  {
   "cell_type": "code",
   "execution_count": 153,
   "id": "463c0677",
   "metadata": {},
   "outputs": [
    {
     "data": {
      "text/html": [
       "<div>\n",
       "<style scoped>\n",
       "    .dataframe tbody tr th:only-of-type {\n",
       "        vertical-align: middle;\n",
       "    }\n",
       "\n",
       "    .dataframe tbody tr th {\n",
       "        vertical-align: top;\n",
       "    }\n",
       "\n",
       "    .dataframe thead th {\n",
       "        text-align: right;\n",
       "    }\n",
       "</style>\n",
       "<table border=\"1\" class=\"dataframe\">\n",
       "  <thead>\n",
       "    <tr style=\"text-align: right;\">\n",
       "      <th></th>\n",
       "      <th>displacement</th>\n",
       "      <th>horsepower</th>\n",
       "      <th>weight</th>\n",
       "      <th>acceleration</th>\n",
       "      <th>Kilometer_per_liter</th>\n",
       "    </tr>\n",
       "  </thead>\n",
       "  <tbody>\n",
       "    <tr>\n",
       "      <th>displacement</th>\n",
       "      <td>1.000000</td>\n",
       "      <td>0.897257</td>\n",
       "      <td>0.932994</td>\n",
       "      <td>-0.543800</td>\n",
       "      <td>-0.805127</td>\n",
       "    </tr>\n",
       "    <tr>\n",
       "      <th>horsepower</th>\n",
       "      <td>0.897257</td>\n",
       "      <td>1.000000</td>\n",
       "      <td>0.864538</td>\n",
       "      <td>-0.689196</td>\n",
       "      <td>-0.778427</td>\n",
       "    </tr>\n",
       "    <tr>\n",
       "      <th>weight</th>\n",
       "      <td>0.932994</td>\n",
       "      <td>0.864538</td>\n",
       "      <td>1.000000</td>\n",
       "      <td>-0.416839</td>\n",
       "      <td>-0.832244</td>\n",
       "    </tr>\n",
       "    <tr>\n",
       "      <th>acceleration</th>\n",
       "      <td>-0.543800</td>\n",
       "      <td>-0.689196</td>\n",
       "      <td>-0.416839</td>\n",
       "      <td>1.000000</td>\n",
       "      <td>0.423329</td>\n",
       "    </tr>\n",
       "    <tr>\n",
       "      <th>Kilometer_per_liter</th>\n",
       "      <td>-0.805127</td>\n",
       "      <td>-0.778427</td>\n",
       "      <td>-0.832244</td>\n",
       "      <td>0.423329</td>\n",
       "      <td>1.000000</td>\n",
       "    </tr>\n",
       "  </tbody>\n",
       "</table>\n",
       "</div>"
      ],
      "text/plain": [
       "                     displacement  horsepower    weight  acceleration  \\\n",
       "displacement             1.000000    0.897257  0.932994     -0.543800   \n",
       "horsepower               0.897257    1.000000  0.864538     -0.689196   \n",
       "weight                   0.932994    0.864538  1.000000     -0.416839   \n",
       "acceleration            -0.543800   -0.689196 -0.416839      1.000000   \n",
       "Kilometer_per_liter     -0.805127   -0.778427 -0.832244      0.423329   \n",
       "\n",
       "                     Kilometer_per_liter  \n",
       "displacement                   -0.805127  \n",
       "horsepower                     -0.778427  \n",
       "weight                         -0.832244  \n",
       "acceleration                    0.423329  \n",
       "Kilometer_per_liter             1.000000  "
      ]
     },
     "execution_count": 153,
     "metadata": {},
     "output_type": "execute_result"
    }
   ],
   "source": [
    "DV_IDVNUM.corr()"
   ]
  },
  {
   "cell_type": "code",
   "execution_count": 154,
   "id": "f942cb7e",
   "metadata": {},
   "outputs": [
    {
     "data": {
      "text/plain": [
       "<AxesSubplot:>"
      ]
     },
     "execution_count": 154,
     "metadata": {},
     "output_type": "execute_result"
    },
    {
     "data": {
      "image/png": "[encoded data removed]",
      "text/plain": [
       "<Figure size 432x288 with 2 Axes>"
      ]
     },
     "metadata": {
      "needs_background": "light"
     },
     "output_type": "display_data"
    }
   ],
   "source": [
    "sns.heatmap(DV_IDVNUM.corr(),annot=True,cmap='viridis')"
   ]
  },
  {
   "cell_type": "markdown",
   "id": "aaf7e696",
   "metadata": {},
   "source": [
    "#### SHPIRO WILK test used to pass NORMALITY\n",
    "Shapiro test used since our dataset has <5000 \n",
    "\n",
    "objective:\n",
    "    To check whether our DV is normally distributed or not.\n",
    "    "
   ]
  },
  {
   "cell_type": "code",
   "execution_count": 155,
   "id": "487b95f4",
   "metadata": {},
   "outputs": [
    {
     "data": {
      "text/plain": [
       "ShapiroResult(statistic=0.967170000076294, pvalue=1.0495841706870124e-07)"
      ]
     },
     "execution_count": 155,
     "metadata": {},
     "output_type": "execute_result"
    }
   ],
   "source": [
    "from scipy.stats import anderson,shapiro,kstest\n",
    "from scipy import stats\n",
    "shapiro_test = stats.shapiro(DV)\n",
    "shapiro_test"
   ]
  },
  {
   "cell_type": "code",
   "execution_count": 156,
   "id": "82423a86",
   "metadata": {},
   "outputs": [
    {
     "name": "stdout",
     "output_type": "stream",
     "text": [
      "Not normally distributed\n"
     ]
    }
   ],
   "source": [
    "s,p=shapiro(DV)\n",
    "if p>0.05:\n",
    "    print(\"normally distributed\")\n",
    "else:\n",
    "    print(\"Not normally distributed\")"
   ]
  },
  {
   "cell_type": "markdown",
   "id": "f4ef6646",
   "metadata": {},
   "source": [
    "####  univariate analysis for Independent variables\n",
    "\n",
    "### for Numerical\n",
    "\n",
    "#### KDE plot for IDV_NUM"
   ]
  },
  {
   "cell_type": "markdown",
   "id": "c0a6ba8a",
   "metadata": {},
   "source": [
    "#### PearsonR test\n",
    "\n",
    "objective:\n",
    "    used to check whether IDVs are significant or not"
   ]
  },
  {
   "cell_type": "code",
   "execution_count": 157,
   "id": "b44a0166",
   "metadata": {},
   "outputs": [
    {
     "name": "stdout",
     "output_type": "stream",
     "text": [
      "displacement and displacement ********(=) 0.9999999999999997,0.0\n",
      "There is Significant relation between the IDVs considered.\n",
      "\n",
      "displacement and horsepower ********(=) 0.8972570018434691,1.5108887258741506e-140\n",
      "There is Significant relation between the IDVs considered.\n",
      "\n",
      "displacement and weight ********(=) 0.9329944040890107,3.489083946205901e-175\n",
      "There is Significant relation between the IDVs considered.\n",
      "\n",
      "displacement and acceleration ********(=) -0.5438004967345675,1.508540144080377e-31\n",
      "There is Significant relation between the IDVs considered.\n",
      "\n",
      "horsepower and displacement ********(=) 0.8972570018434691,1.5108887258741506e-140\n",
      "There is Significant relation between the IDVs considered.\n",
      "\n",
      "horsepower and horsepower ********(=) 1.0,0.0\n",
      "There is Significant relation between the IDVs considered.\n",
      "\n",
      "horsepower and weight ********(=) 0.8645377375741445,1.364346877373023e-118\n",
      "There is Significant relation between the IDVs considered.\n",
      "\n",
      "horsepower and acceleration ********(=) -0.6891955103342366,1.5818862297815785e-56\n",
      "There is Significant relation between the IDVs considered.\n",
      "\n",
      "weight and displacement ********(=) 0.9329944040890107,3.489083946205901e-175\n",
      "There is Significant relation between the IDVs considered.\n",
      "\n",
      "weight and horsepower ********(=) 0.8645377375741445,1.364346877373023e-118\n",
      "There is Significant relation between the IDVs considered.\n",
      "\n",
      "weight and weight ********(=) 1.0,0.0\n",
      "There is Significant relation between the IDVs considered.\n",
      "\n",
      "weight and acceleration ********(=) -0.4168392020037067,6.565615702021497e-18\n",
      "There is Significant relation between the IDVs considered.\n",
      "\n",
      "acceleration and displacement ********(=) -0.5438004967345675,1.508540144080377e-31\n",
      "There is Significant relation between the IDVs considered.\n",
      "\n",
      "acceleration and horsepower ********(=) -0.6891955103342366,1.5818862297815785e-56\n",
      "There is Significant relation between the IDVs considered.\n",
      "\n",
      "acceleration and weight ********(=) -0.4168392020037067,6.565615702021497e-18\n",
      "There is Significant relation between the IDVs considered.\n",
      "\n",
      "acceleration and acceleration ********(=) 1.0,0.0\n",
      "There is Significant relation between the IDVs considered.\n",
      "\n"
     ]
    }
   ],
   "source": [
    "for i in IDV_NUM:\n",
    "    for j in IDV_NUM:\n",
    "        r,p = pearsonr(IDV_NUM[i],IDV_NUM[j])\n",
    "        print(f'{i} and {j} ********(=) {r},{p}')\n",
    "        if p>0.05:\n",
    "            print(\"No Significant relation.\")\n",
    "        else:\n",
    "            print(\"There is Significant relation between the IDVs considered.\")\n",
    "        print()"
   ]
  },
  {
   "cell_type": "code",
   "execution_count": 158,
   "id": "92fe6416",
   "metadata": {},
   "outputs": [
    {
     "data": {
      "text/html": [
       "<div>\n",
       "<style scoped>\n",
       "    .dataframe tbody tr th:only-of-type {\n",
       "        vertical-align: middle;\n",
       "    }\n",
       "\n",
       "    .dataframe tbody tr th {\n",
       "        vertical-align: top;\n",
       "    }\n",
       "\n",
       "    .dataframe thead th {\n",
       "        text-align: right;\n",
       "    }\n",
       "</style>\n",
       "<table border=\"1\" class=\"dataframe\">\n",
       "  <thead>\n",
       "    <tr style=\"text-align: right;\">\n",
       "      <th></th>\n",
       "      <th>displacement</th>\n",
       "      <th>horsepower</th>\n",
       "      <th>weight</th>\n",
       "      <th>acceleration</th>\n",
       "    </tr>\n",
       "  </thead>\n",
       "  <tbody>\n",
       "    <tr>\n",
       "      <th>displacement</th>\n",
       "      <td>1.000000</td>\n",
       "      <td>0.897257</td>\n",
       "      <td>0.932994</td>\n",
       "      <td>-0.543800</td>\n",
       "    </tr>\n",
       "    <tr>\n",
       "      <th>horsepower</th>\n",
       "      <td>0.897257</td>\n",
       "      <td>1.000000</td>\n",
       "      <td>0.864538</td>\n",
       "      <td>-0.689196</td>\n",
       "    </tr>\n",
       "    <tr>\n",
       "      <th>weight</th>\n",
       "      <td>0.932994</td>\n",
       "      <td>0.864538</td>\n",
       "      <td>1.000000</td>\n",
       "      <td>-0.416839</td>\n",
       "    </tr>\n",
       "    <tr>\n",
       "      <th>acceleration</th>\n",
       "      <td>-0.543800</td>\n",
       "      <td>-0.689196</td>\n",
       "      <td>-0.416839</td>\n",
       "      <td>1.000000</td>\n",
       "    </tr>\n",
       "  </tbody>\n",
       "</table>\n",
       "</div>"
      ],
      "text/plain": [
       "              displacement  horsepower    weight  acceleration\n",
       "displacement      1.000000    0.897257  0.932994     -0.543800\n",
       "horsepower        0.897257    1.000000  0.864538     -0.689196\n",
       "weight            0.932994    0.864538  1.000000     -0.416839\n",
       "acceleration     -0.543800   -0.689196 -0.416839      1.000000"
      ]
     },
     "execution_count": 158,
     "metadata": {},
     "output_type": "execute_result"
    }
   ],
   "source": [
    "IDV_NUM.corr()"
   ]
  },
  {
   "cell_type": "code",
   "execution_count": 159,
   "id": "1934cbc1",
   "metadata": {},
   "outputs": [
    {
     "data": {
      "text/plain": [
       "<AxesSubplot:>"
      ]
     },
     "execution_count": 159,
     "metadata": {},
     "output_type": "execute_result"
    },
    {
     "data": {
      "image/png": "[encoded data removed]",
      "text/plain": [
       "<Figure size 432x288 with 2 Axes>"
      ]
     },
     "metadata": {
      "needs_background": "light"
     },
     "output_type": "display_data"
    }
   ],
   "source": [
    "sns.heatmap(IDV_NUM.corr(),annot=True,cmap=\"BuPu\")"
   ]
  },
  {
   "cell_type": "markdown",
   "id": "1bcbfd94",
   "metadata": {},
   "source": [
    "#### Normality test for Numerical_IDV using shapiro test\n",
    "\n",
    "used here to check and verify whether our IDVs are not normally distributed"
   ]
  },
  {
   "cell_type": "code",
   "execution_count": 160,
   "id": "2500d8fa",
   "metadata": {},
   "outputs": [
    {
     "data": {
      "text/plain": [
       "ShapiroResult(statistic=0.6459673643112183, pvalue=0.0)"
      ]
     },
     "execution_count": 160,
     "metadata": {},
     "output_type": "execute_result"
    }
   ],
   "source": [
    "from scipy.stats import anderson,shapiro,kstest\n",
    "from scipy import stats\n",
    "shapiro_test = stats.shapiro(IDV_NUM)\n",
    "shapiro_test"
   ]
  },
  {
   "cell_type": "code",
   "execution_count": 161,
   "id": "f5f447e4",
   "metadata": {},
   "outputs": [
    {
     "name": "stdout",
     "output_type": "stream",
     "text": [
      "Not normally distributed\n"
     ]
    }
   ],
   "source": [
    "s,p=shapiro(IDV_NUM)\n",
    "if p>0.05:\n",
    "    print(\"normally distributed\")\n",
    "else:\n",
    "    print(\"Not normally distributed\")"
   ]
  },
  {
   "cell_type": "markdown",
   "id": "0ec56f4b",
   "metadata": {},
   "source": [
    "## Count plot"
   ]
  },
  {
   "cell_type": "code",
   "execution_count": 162,
   "id": "afc76f68",
   "metadata": {},
   "outputs": [
    {
     "data": {
      "text/plain": [
       "origin  cylinders\n",
       "1       8            103\n",
       "        6             73\n",
       "        4             69\n",
       "3       4             69\n",
       "2       4             61\n",
       "3       6              6\n",
       "2       6              4\n",
       "3       3              4\n",
       "2       5              3\n",
       "dtype: int64"
      ]
     },
     "execution_count": 162,
     "metadata": {},
     "output_type": "execute_result"
    }
   ],
   "source": [
    "IDV_CAT.value_counts()"
   ]
  },
  {
   "cell_type": "code",
   "execution_count": 163,
   "id": "d0c946fe",
   "metadata": {},
   "outputs": [
    {
     "data": {
      "text/plain": [
       "<AxesSubplot:xlabel='origin', ylabel='count'>"
      ]
     },
     "execution_count": 163,
     "metadata": {},
     "output_type": "execute_result"
    },
    {
     "data": {
      "image/png": "[encoded data removed]",
      "text/plain": [
       "<Figure size 432x288 with 1 Axes>"
      ]
     },
     "metadata": {
      "needs_background": "light"
     },
     "output_type": "display_data"
    }
   ],
   "source": [
    "sns.countplot(data=IDV_CAT,x=IDV_CAT.origin)  #used to check the count"
   ]
  },
  {
   "cell_type": "code",
   "execution_count": 164,
   "id": "ec43e0a8",
   "metadata": {},
   "outputs": [
    {
     "data": {
      "text/plain": [
       "<AxesSubplot:xlabel='cylinders', ylabel='count'>"
      ]
     },
     "execution_count": 164,
     "metadata": {},
     "output_type": "execute_result"
    },
    {
     "data": {
      "image/png": "[encoded data removed]",
      "text/plain": [
       "<Figure size 432x288 with 1 Axes>"
      ]
     },
     "metadata": {
      "needs_background": "light"
     },
     "output_type": "display_data"
    }
   ],
   "source": [
    "sns.countplot(data=IDV_CAT,x=IDV_CAT.cylinders)  #used to check the count"
   ]
  },
  {
   "cell_type": "markdown",
   "id": "a1938ac9",
   "metadata": {},
   "source": [
    "#### Bivariate Analysis\n",
    "\n",
    "objective: #finding the relationship between the dependent and the independent numerical variables\n"
   ]
  },
  {
   "cell_type": "code",
   "execution_count": 165,
   "id": "551bd7f1",
   "metadata": {},
   "outputs": [
    {
     "name": "stdout",
     "output_type": "stream",
     "text": [
      "Kilometer_per_liter vs displacement\n"
     ]
    },
    {
     "data": {
      "image/png": "[encoded data removed]",
      "text/plain": [
       "<Figure size 432x288 with 1 Axes>"
      ]
     },
     "metadata": {
      "needs_background": "light"
     },
     "output_type": "display_data"
    },
    {
     "name": "stdout",
     "output_type": "stream",
     "text": [
      "Kilometer_per_liter vs horsepower\n"
     ]
    },
    {
     "data": {
      "image/png": "[encoded data removed]",
      "text/plain": [
       "<Figure size 432x288 with 1 Axes>"
      ]
     },
     "metadata": {
      "needs_background": "light"
     },
     "output_type": "display_data"
    },
    {
     "name": "stdout",
     "output_type": "stream",
     "text": [
      "Kilometer_per_liter vs weight\n"
     ]
    },
    {
     "data": {
      "image/png": "[encoded data removed]",
      "text/plain": [
       "<Figure size 432x288 with 1 Axes>"
      ]
     },
     "metadata": {
      "needs_background": "light"
     },
     "output_type": "display_data"
    },
    {
     "name": "stdout",
     "output_type": "stream",
     "text": [
      "Kilometer_per_liter vs acceleration\n"
     ]
    },
    {
     "data": {
      "image/png": "[encoded data removed]",
      "text/plain": [
       "<Figure size 432x288 with 1 Axes>"
      ]
     },
     "metadata": {
      "needs_background": "light"
     },
     "output_type": "display_data"
    }
   ],
   "source": [
    "for feature in IDV_NUM.columns:\n",
    "        print(\"Kilometer_per_liter vs\",feature)\n",
    "        sns.scatterplot(data=df2,x=df2.Kilometer_per_liter,y=df2[feature])\n",
    "        plt.show()"
   ]
  },
  {
   "cell_type": "markdown",
   "id": "1da66158",
   "metadata": {},
   "source": [
    "## Multivariate analysis"
   ]
  },
  {
   "cell_type": "markdown",
   "id": "b0cd4893",
   "metadata": {},
   "source": [
    "#### checking Multicollinearity for IDV\n",
    "\n",
    "Objective: To find whether there is multicollinearity presnt between our Numerical IDVs"
   ]
  },
  {
   "cell_type": "code",
   "execution_count": 166,
   "id": "49350752",
   "metadata": {},
   "outputs": [
    {
     "data": {
      "text/html": [
       "<div>\n",
       "<style scoped>\n",
       "    .dataframe tbody tr th:only-of-type {\n",
       "        vertical-align: middle;\n",
       "    }\n",
       "\n",
       "    .dataframe tbody tr th {\n",
       "        vertical-align: top;\n",
       "    }\n",
       "\n",
       "    .dataframe thead th {\n",
       "        text-align: right;\n",
       "    }\n",
       "</style>\n",
       "<table border=\"1\" class=\"dataframe\">\n",
       "  <thead>\n",
       "    <tr style=\"text-align: right;\">\n",
       "      <th></th>\n",
       "      <th>displacement</th>\n",
       "      <th>horsepower</th>\n",
       "      <th>weight</th>\n",
       "      <th>acceleration</th>\n",
       "    </tr>\n",
       "  </thead>\n",
       "  <tbody>\n",
       "    <tr>\n",
       "      <th>0</th>\n",
       "      <td>307.0</td>\n",
       "      <td>130.0</td>\n",
       "      <td>3504</td>\n",
       "      <td>12.0</td>\n",
       "    </tr>\n",
       "    <tr>\n",
       "      <th>1</th>\n",
       "      <td>350.0</td>\n",
       "      <td>165.0</td>\n",
       "      <td>3693</td>\n",
       "      <td>11.5</td>\n",
       "    </tr>\n",
       "    <tr>\n",
       "      <th>2</th>\n",
       "      <td>318.0</td>\n",
       "      <td>150.0</td>\n",
       "      <td>3436</td>\n",
       "      <td>11.0</td>\n",
       "    </tr>\n",
       "    <tr>\n",
       "      <th>3</th>\n",
       "      <td>304.0</td>\n",
       "      <td>150.0</td>\n",
       "      <td>3433</td>\n",
       "      <td>12.0</td>\n",
       "    </tr>\n",
       "    <tr>\n",
       "      <th>4</th>\n",
       "      <td>302.0</td>\n",
       "      <td>140.0</td>\n",
       "      <td>3449</td>\n",
       "      <td>10.5</td>\n",
       "    </tr>\n",
       "  </tbody>\n",
       "</table>\n",
       "</div>"
      ],
      "text/plain": [
       "   displacement  horsepower  weight  acceleration\n",
       "0         307.0       130.0    3504          12.0\n",
       "1         350.0       165.0    3693          11.5\n",
       "2         318.0       150.0    3436          11.0\n",
       "3         304.0       150.0    3433          12.0\n",
       "4         302.0       140.0    3449          10.5"
      ]
     },
     "execution_count": 166,
     "metadata": {},
     "output_type": "execute_result"
    }
   ],
   "source": [
    "IDV_NUM.head()"
   ]
  },
  {
   "cell_type": "code",
   "execution_count": 167,
   "id": "55d41090",
   "metadata": {},
   "outputs": [
    {
     "data": {
      "text/html": [
       "<div>\n",
       "<style scoped>\n",
       "    .dataframe tbody tr th:only-of-type {\n",
       "        vertical-align: middle;\n",
       "    }\n",
       "\n",
       "    .dataframe tbody tr th {\n",
       "        vertical-align: top;\n",
       "    }\n",
       "\n",
       "    .dataframe thead th {\n",
       "        text-align: right;\n",
       "    }\n",
       "</style>\n",
       "<table border=\"1\" class=\"dataframe\">\n",
       "  <thead>\n",
       "    <tr style=\"text-align: right;\">\n",
       "      <th></th>\n",
       "      <th>displacement</th>\n",
       "      <th>horsepower</th>\n",
       "      <th>weight</th>\n",
       "      <th>acceleration</th>\n",
       "    </tr>\n",
       "  </thead>\n",
       "  <tbody>\n",
       "    <tr>\n",
       "      <th>displacement</th>\n",
       "      <td>1.000000</td>\n",
       "      <td>0.897257</td>\n",
       "      <td>0.932994</td>\n",
       "      <td>-0.543800</td>\n",
       "    </tr>\n",
       "    <tr>\n",
       "      <th>horsepower</th>\n",
       "      <td>0.897257</td>\n",
       "      <td>1.000000</td>\n",
       "      <td>0.864538</td>\n",
       "      <td>-0.689196</td>\n",
       "    </tr>\n",
       "    <tr>\n",
       "      <th>weight</th>\n",
       "      <td>0.932994</td>\n",
       "      <td>0.864538</td>\n",
       "      <td>1.000000</td>\n",
       "      <td>-0.416839</td>\n",
       "    </tr>\n",
       "    <tr>\n",
       "      <th>acceleration</th>\n",
       "      <td>-0.543800</td>\n",
       "      <td>-0.689196</td>\n",
       "      <td>-0.416839</td>\n",
       "      <td>1.000000</td>\n",
       "    </tr>\n",
       "  </tbody>\n",
       "</table>\n",
       "</div>"
      ],
      "text/plain": [
       "              displacement  horsepower    weight  acceleration\n",
       "displacement      1.000000    0.897257  0.932994     -0.543800\n",
       "horsepower        0.897257    1.000000  0.864538     -0.689196\n",
       "weight            0.932994    0.864538  1.000000     -0.416839\n",
       "acceleration     -0.543800   -0.689196 -0.416839      1.000000"
      ]
     },
     "execution_count": 167,
     "metadata": {},
     "output_type": "execute_result"
    }
   ],
   "source": [
    "IDV_NUM.corr()"
   ]
  },
  {
   "cell_type": "code",
   "execution_count": 168,
   "id": "3c029fe3",
   "metadata": {},
   "outputs": [
    {
     "data": {
      "text/plain": [
       "<AxesSubplot:>"
      ]
     },
     "execution_count": 168,
     "metadata": {},
     "output_type": "execute_result"
    },
    {
     "data": {
      "image/png": "[encoded data removed]",
      "text/plain": [
       "<Figure size 432x288 with 2 Axes>"
      ]
     },
     "metadata": {
      "needs_background": "light"
     },
     "output_type": "display_data"
    }
   ],
   "source": [
    "sns.heatmap(IDV_NUM.corr(),annot=True,cmap=\"viridis\")"
   ]
  },
  {
   "cell_type": "code",
   "execution_count": 169,
   "id": "48f50c07",
   "metadata": {},
   "outputs": [
    {
     "name": "stdout",
     "output_type": "stream",
     "text": [
      "displacement and displacement ********(=) 0.9999999999999997,0.0\n",
      "\n",
      "displacement and horsepower ********(=) 0.8972570018434691,1.5108887258741506e-140\n",
      "\n",
      "displacement and weight ********(=) 0.9329944040890107,3.489083946205901e-175\n",
      "\n",
      "displacement and acceleration ********(=) -0.5438004967345675,1.508540144080377e-31\n",
      "\n",
      "horsepower and displacement ********(=) 0.8972570018434691,1.5108887258741506e-140\n",
      "\n",
      "horsepower and horsepower ********(=) 1.0,0.0\n",
      "\n",
      "horsepower and weight ********(=) 0.8645377375741445,1.364346877373023e-118\n",
      "\n",
      "horsepower and acceleration ********(=) -0.6891955103342366,1.5818862297815785e-56\n",
      "\n",
      "weight and displacement ********(=) 0.9329944040890107,3.489083946205901e-175\n",
      "\n",
      "weight and horsepower ********(=) 0.8645377375741445,1.364346877373023e-118\n",
      "\n",
      "weight and weight ********(=) 1.0,0.0\n",
      "\n",
      "weight and acceleration ********(=) -0.4168392020037067,6.565615702021497e-18\n",
      "\n",
      "acceleration and displacement ********(=) -0.5438004967345675,1.508540144080377e-31\n",
      "\n",
      "acceleration and horsepower ********(=) -0.6891955103342366,1.5818862297815785e-56\n",
      "\n",
      "acceleration and weight ********(=) -0.4168392020037067,6.565615702021497e-18\n",
      "\n",
      "acceleration and acceleration ********(=) 1.0,0.0\n",
      "\n"
     ]
    }
   ],
   "source": [
    "for i in IDV_NUM:\n",
    "    for j in IDV_NUM:\n",
    "        r,p = pearsonr(IDV_NUM[i],IDV_NUM[j])\n",
    "        print(f'{i} and {j} ********(=) {r},{p}')\n",
    "        print()"
   ]
  },
  {
   "cell_type": "markdown",
   "id": "381dddc0",
   "metadata": {},
   "source": [
    "#### VIF factor check:\n",
    "\n",
    "Objective: To find out the possiblity that certain IDV has no correlation"
   ]
  },
  {
   "cell_type": "code",
   "execution_count": 170,
   "id": "fd6442a6",
   "metadata": {},
   "outputs": [],
   "source": [
    "from statsmodels.stats.outliers_influence import variance_inflation_factor"
   ]
  },
  {
   "cell_type": "code",
   "execution_count": 171,
   "id": "b7270888",
   "metadata": {},
   "outputs": [
    {
     "data": {
      "text/html": [
       "<div>\n",
       "<style scoped>\n",
       "    .dataframe tbody tr th:only-of-type {\n",
       "        vertical-align: middle;\n",
       "    }\n",
       "\n",
       "    .dataframe tbody tr th {\n",
       "        vertical-align: top;\n",
       "    }\n",
       "\n",
       "    .dataframe thead th {\n",
       "        text-align: right;\n",
       "    }\n",
       "</style>\n",
       "<table border=\"1\" class=\"dataframe\">\n",
       "  <thead>\n",
       "    <tr style=\"text-align: right;\">\n",
       "      <th></th>\n",
       "      <th>displacement</th>\n",
       "      <th>horsepower</th>\n",
       "      <th>weight</th>\n",
       "      <th>acceleration</th>\n",
       "    </tr>\n",
       "  </thead>\n",
       "  <tbody>\n",
       "    <tr>\n",
       "      <th>0</th>\n",
       "      <td>307.0</td>\n",
       "      <td>130.0</td>\n",
       "      <td>3504</td>\n",
       "      <td>12.0</td>\n",
       "    </tr>\n",
       "    <tr>\n",
       "      <th>1</th>\n",
       "      <td>350.0</td>\n",
       "      <td>165.0</td>\n",
       "      <td>3693</td>\n",
       "      <td>11.5</td>\n",
       "    </tr>\n",
       "    <tr>\n",
       "      <th>2</th>\n",
       "      <td>318.0</td>\n",
       "      <td>150.0</td>\n",
       "      <td>3436</td>\n",
       "      <td>11.0</td>\n",
       "    </tr>\n",
       "    <tr>\n",
       "      <th>3</th>\n",
       "      <td>304.0</td>\n",
       "      <td>150.0</td>\n",
       "      <td>3433</td>\n",
       "      <td>12.0</td>\n",
       "    </tr>\n",
       "    <tr>\n",
       "      <th>4</th>\n",
       "      <td>302.0</td>\n",
       "      <td>140.0</td>\n",
       "      <td>3449</td>\n",
       "      <td>10.5</td>\n",
       "    </tr>\n",
       "  </tbody>\n",
       "</table>\n",
       "</div>"
      ],
      "text/plain": [
       "   displacement  horsepower  weight  acceleration\n",
       "0         307.0       130.0    3504          12.0\n",
       "1         350.0       165.0    3693          11.5\n",
       "2         318.0       150.0    3436          11.0\n",
       "3         304.0       150.0    3433          12.0\n",
       "4         302.0       140.0    3449          10.5"
      ]
     },
     "execution_count": 171,
     "metadata": {},
     "output_type": "execute_result"
    }
   ],
   "source": [
    "IDV_NUM.head()"
   ]
  },
  {
   "cell_type": "code",
   "execution_count": 172,
   "id": "d24f8303",
   "metadata": {},
   "outputs": [
    {
     "name": "stdout",
     "output_type": "stream",
     "text": [
      "displacement********(=)45.8655942608709\n",
      "horsepower********(=)42.01519337024783\n",
      "weight********(=)136.44952062802815\n",
      "acceleration********(=)20.304705092289847\n"
     ]
    }
   ],
   "source": [
    "for i in range(len(IDV_NUM.columns)):\n",
    "    print(f'{IDV_NUM.columns[i]}********(=){variance_inflation_factor(IDV_NUM.values,i)}')"
   ]
  },
  {
   "cell_type": "markdown",
   "id": "d92e3fe6",
   "metadata": {},
   "source": [
    "## Linear Regression model considering Train and Test split"
   ]
  },
  {
   "cell_type": "code",
   "execution_count": 173,
   "id": "e18488a0",
   "metadata": {},
   "outputs": [],
   "source": [
    "from sklearn.model_selection import train_test_split"
   ]
  },
  {
   "cell_type": "code",
   "execution_count": 174,
   "id": "ec168e0d",
   "metadata": {},
   "outputs": [
    {
     "data": {
      "text/html": [
       "<div>\n",
       "<style scoped>\n",
       "    .dataframe tbody tr th:only-of-type {\n",
       "        vertical-align: middle;\n",
       "    }\n",
       "\n",
       "    .dataframe tbody tr th {\n",
       "        vertical-align: top;\n",
       "    }\n",
       "\n",
       "    .dataframe thead th {\n",
       "        text-align: right;\n",
       "    }\n",
       "</style>\n",
       "<table border=\"1\" class=\"dataframe\">\n",
       "  <thead>\n",
       "    <tr style=\"text-align: right;\">\n",
       "      <th></th>\n",
       "      <th>displacement</th>\n",
       "      <th>horsepower</th>\n",
       "      <th>weight</th>\n",
       "      <th>acceleration</th>\n",
       "    </tr>\n",
       "  </thead>\n",
       "  <tbody>\n",
       "    <tr>\n",
       "      <th>0</th>\n",
       "      <td>307.0</td>\n",
       "      <td>130.0</td>\n",
       "      <td>3504</td>\n",
       "      <td>12.0</td>\n",
       "    </tr>\n",
       "    <tr>\n",
       "      <th>1</th>\n",
       "      <td>350.0</td>\n",
       "      <td>165.0</td>\n",
       "      <td>3693</td>\n",
       "      <td>11.5</td>\n",
       "    </tr>\n",
       "    <tr>\n",
       "      <th>2</th>\n",
       "      <td>318.0</td>\n",
       "      <td>150.0</td>\n",
       "      <td>3436</td>\n",
       "      <td>11.0</td>\n",
       "    </tr>\n",
       "    <tr>\n",
       "      <th>3</th>\n",
       "      <td>304.0</td>\n",
       "      <td>150.0</td>\n",
       "      <td>3433</td>\n",
       "      <td>12.0</td>\n",
       "    </tr>\n",
       "    <tr>\n",
       "      <th>4</th>\n",
       "      <td>302.0</td>\n",
       "      <td>140.0</td>\n",
       "      <td>3449</td>\n",
       "      <td>10.5</td>\n",
       "    </tr>\n",
       "    <tr>\n",
       "      <th>...</th>\n",
       "      <td>...</td>\n",
       "      <td>...</td>\n",
       "      <td>...</td>\n",
       "      <td>...</td>\n",
       "    </tr>\n",
       "    <tr>\n",
       "      <th>393</th>\n",
       "      <td>140.0</td>\n",
       "      <td>86.0</td>\n",
       "      <td>2790</td>\n",
       "      <td>15.6</td>\n",
       "    </tr>\n",
       "    <tr>\n",
       "      <th>394</th>\n",
       "      <td>97.0</td>\n",
       "      <td>52.0</td>\n",
       "      <td>2130</td>\n",
       "      <td>24.6</td>\n",
       "    </tr>\n",
       "    <tr>\n",
       "      <th>395</th>\n",
       "      <td>135.0</td>\n",
       "      <td>84.0</td>\n",
       "      <td>2295</td>\n",
       "      <td>11.6</td>\n",
       "    </tr>\n",
       "    <tr>\n",
       "      <th>396</th>\n",
       "      <td>120.0</td>\n",
       "      <td>79.0</td>\n",
       "      <td>2625</td>\n",
       "      <td>18.6</td>\n",
       "    </tr>\n",
       "    <tr>\n",
       "      <th>397</th>\n",
       "      <td>119.0</td>\n",
       "      <td>82.0</td>\n",
       "      <td>2720</td>\n",
       "      <td>19.4</td>\n",
       "    </tr>\n",
       "  </tbody>\n",
       "</table>\n",
       "<p>392 rows × 4 columns</p>\n",
       "</div>"
      ],
      "text/plain": [
       "     displacement  horsepower  weight  acceleration\n",
       "0           307.0       130.0    3504          12.0\n",
       "1           350.0       165.0    3693          11.5\n",
       "2           318.0       150.0    3436          11.0\n",
       "3           304.0       150.0    3433          12.0\n",
       "4           302.0       140.0    3449          10.5\n",
       "..            ...         ...     ...           ...\n",
       "393         140.0        86.0    2790          15.6\n",
       "394          97.0        52.0    2130          24.6\n",
       "395         135.0        84.0    2295          11.6\n",
       "396         120.0        79.0    2625          18.6\n",
       "397         119.0        82.0    2720          19.4\n",
       "\n",
       "[392 rows x 4 columns]"
      ]
     },
     "execution_count": 174,
     "metadata": {},
     "output_type": "execute_result"
    }
   ],
   "source": [
    "x=IDV_NUM\n",
    "x"
   ]
  },
  {
   "cell_type": "code",
   "execution_count": 175,
   "id": "72ec3d0b",
   "metadata": {},
   "outputs": [
    {
     "data": {
      "text/plain": [
       "0       7.652587\n",
       "1       6.377156\n",
       "2       7.652587\n",
       "3       6.802299\n",
       "4       7.227443\n",
       "         ...    \n",
       "393    11.478880\n",
       "394    18.706323\n",
       "395    13.604599\n",
       "396    11.904024\n",
       "397    13.179455\n",
       "Name: Kilometer_per_liter, Length: 392, dtype: float64"
      ]
     },
     "execution_count": 175,
     "metadata": {},
     "output_type": "execute_result"
    }
   ],
   "source": [
    "y=DV\n",
    "y"
   ]
  },
  {
   "cell_type": "code",
   "execution_count": 176,
   "id": "5a7fb6ec",
   "metadata": {},
   "outputs": [],
   "source": [
    "x_train, x_test, y_train, y_test = train_test_split(x,y, test_size=0.30,random_state=42)  # test size=30% and train size =70%"
   ]
  },
  {
   "cell_type": "code",
   "execution_count": 177,
   "id": "9f8f0056",
   "metadata": {},
   "outputs": [
    {
     "name": "stdout",
     "output_type": "stream",
     "text": [
      "(274, 4)\n",
      "(118, 4)\n",
      "(274,)\n",
      "(118,)\n"
     ]
    }
   ],
   "source": [
    "print(x_train.shape)\n",
    "print(x_test.shape)\n",
    "print(y_train.shape)\n",
    "print(y_test.shape)"
   ]
  },
  {
   "cell_type": "code",
   "execution_count": 178,
   "id": "78e88f6f",
   "metadata": {},
   "outputs": [],
   "source": [
    "from sklearn.linear_model import LinearRegression"
   ]
  },
  {
   "cell_type": "code",
   "execution_count": 179,
   "id": "9e108868",
   "metadata": {},
   "outputs": [],
   "source": [
    "l=LinearRegression()  #A new variable L is used to store the Linear Regression"
   ]
  },
  {
   "cell_type": "code",
   "execution_count": 180,
   "id": "1abcdc60",
   "metadata": {},
   "outputs": [
    {
     "data": {
      "text/plain": [
       "LinearRegression()"
      ]
     },
     "execution_count": 180,
     "metadata": {},
     "output_type": "execute_result"
    }
   ],
   "source": [
    "l.fit(x_train,y_train) #fit x and y train and assign in l"
   ]
  },
  {
   "cell_type": "code",
   "execution_count": 181,
   "id": "012a061f",
   "metadata": {},
   "outputs": [
    {
     "data": {
      "text/plain": [
       "array([-0.00423318, -0.02367831, -0.00201897, -0.02220252])"
      ]
     },
     "execution_count": 181,
     "metadata": {},
     "output_type": "execute_result"
    }
   ],
   "source": [
    "l.coef_  #slope value"
   ]
  },
  {
   "cell_type": "code",
   "execution_count": 182,
   "id": "49746ea0",
   "metadata": {},
   "outputs": [
    {
     "data": {
      "text/plain": [
       "19.739937955520098"
      ]
     },
     "execution_count": 182,
     "metadata": {},
     "output_type": "execute_result"
    }
   ],
   "source": [
    "l.intercept_   #intercept value"
   ]
  },
  {
   "cell_type": "markdown",
   "id": "91f5ea6b",
   "metadata": {},
   "source": [
    "#### RMSE for Train\n",
    "\n",
    "objective :\n",
    " To optimize the mean squared error to get better prediction"
   ]
  },
  {
   "cell_type": "code",
   "execution_count": 183,
   "id": "c7dd9e27",
   "metadata": {},
   "outputs": [
    {
     "data": {
      "text/plain": [
       "array([11.88752631, 11.3023344 , 11.81057848, 11.08722147,  9.20109105,\n",
       "       13.37646174, 11.23154457, 11.12982321, 13.54734936, 12.74781534,\n",
       "        9.58145286, 13.0008884 , 11.43908753, 11.93177624, 10.44121243,\n",
       "       12.87048981,  6.90433464, 12.51335447, 11.90917953, 13.33642334,\n",
       "        9.40750254,  6.70839215,  6.37162334,  8.6978022 , 10.48978542,\n",
       "       11.72162016, 12.13627037, 11.04815639, 11.65647233,  3.61843502,\n",
       "        9.03056319, 10.6205119 ,  6.67770782, 13.32744634,  3.9097983 ,\n",
       "       11.55368929, 13.42274041, 11.12686587, 13.15471621,  4.88449746,\n",
       "       13.1784985 , 13.53104957,  2.98233828, 13.74009707, 11.57691048,\n",
       "        8.45077077,  5.96573508,  4.3423776 ,  6.35450135,  9.63370838,\n",
       "       13.47836592, 10.4707686 ,  9.29598868,  8.60613929,  5.17353866,\n",
       "       11.76416741,  5.58713597, 12.97083447, 10.22383004,  5.1990577 ,\n",
       "       11.80367013, 11.7263455 ,  9.41510588, 11.19654134, 10.62962002,\n",
       "       10.17774192, 12.62757789,  5.5709005 ,  6.48469169, 10.15355634,\n",
       "        9.15268951, 11.91234967, 13.04466486, 11.94705621,  7.0382361 ,\n",
       "       12.50874186, 14.08939637, 13.03590226,  6.38105112, 10.82042293,\n",
       "       13.72721346,  4.63495818,  7.04805025, 14.11366295,  6.33527065,\n",
       "        7.27588078, 11.24849098, 14.08717612, 11.29174424, 10.67982523,\n",
       "       12.7719433 , 10.2519048 , 11.75295723, 12.71746658,  9.63077516,\n",
       "       10.27459612,  8.74247476, 13.13040487,  5.54376463,  4.34148027,\n",
       "        8.35820878,  8.65540387, 11.16807685,  7.6606373 , 11.96184668,\n",
       "        3.75258396,  5.01807582, 13.24367635,  4.53664652,  7.73533912,\n",
       "       13.1793463 ,  8.985662  , 13.25209698,  7.60229257, 13.72678578,\n",
       "       10.62154338, 13.46023406,  6.29987123, 11.22408199, 12.62328927,\n",
       "       12.63945328, 12.98190252, 12.2225517 , 12.99319355,  7.67832341,\n",
       "        8.6403761 , 12.5616204 ,  7.588845  ,  9.76324531, 13.46796143,\n",
       "        7.23232411,  6.42087877,  7.23232411, 13.73738688,  6.09393035,\n",
       "       12.14288923,  7.91675462,  6.69065562,  9.58717951,  3.91863283,\n",
       "       12.82328382, 14.491324  , 10.86729707, 11.96938938,  6.29772857,\n",
       "        6.11358313, 13.0767606 , 11.08959929, 13.51185378,  9.11049598,\n",
       "       10.81231923,  3.59721737, 10.79448093,  6.59423186,  9.11269707,\n",
       "       11.24349014,  7.95000602,  9.10093833, 12.72947836, 10.43400474,\n",
       "        8.82245768, 11.42764711,  6.94997894, 11.42367642, 10.08890733,\n",
       "       12.6963163 ,  5.45590304,  9.93847382, 10.78341394, 12.69534511,\n",
       "        9.55656759, 11.64861143,  4.27448835, 12.8064429 ,  5.65185956,\n",
       "        7.80742334,  6.38937829,  9.68877688, 12.58126931,  5.96241774,\n",
       "        4.7833554 ,  4.89751005, 12.01439248,  3.33026102,  6.00635749,\n",
       "       12.96637312, 11.89011864,  5.43878442,  6.28371335,  8.91188288,\n",
       "       11.93532181, 13.9345909 , 10.43984474, 12.07782882, 12.81740738,\n",
       "       10.0600039 ,  7.23689229,  9.5688078 , 10.14731999,  9.86993186,\n",
       "       11.36018787, 10.05852465, 11.22379434, 10.68048935, 13.69267166,\n",
       "        8.47439045,  3.25903452, 11.96260614,  9.10388331, 13.04325292,\n",
       "        8.58644045,  4.63535925, 14.14510445,  6.64002474, 12.52073624,\n",
       "       12.15407277, 10.06610746,  9.2485276 ,  6.53725823,  5.41552739,\n",
       "       13.89881348, 12.99774315, 11.00534178,  6.03365925, 12.714109  ,\n",
       "        6.93886542,  9.44862621, 11.47649303, 13.01254055, 12.10589309,\n",
       "        6.47517131, 11.51612375, 12.73735295, 12.59643992, 13.80845872,\n",
       "       13.7839853 , 13.12774582,  9.76644246,  9.5503983 , 12.28839922,\n",
       "        7.30388678, 11.14458785, 12.97817728, 12.39421051, 13.3721413 ,\n",
       "       13.31500614, 10.54360498, 11.92791041, 10.46044767,  8.090564  ,\n",
       "       13.33346059, 10.50346221, 13.24478099, 13.4228364 , 10.31163107,\n",
       "       13.55174953, 13.42589321, 11.86175945,  8.85656892,  7.82959777,\n",
       "       10.13230702, 13.18703603,  6.73498284,  9.77492029, 13.1754246 ,\n",
       "       10.94181819, 11.37224569, 11.431048  ,  5.86084506,  6.76594863,\n",
       "       10.42606886, 10.9331528 , 12.52125971,  4.09529978])"
      ]
     },
     "execution_count": 183,
     "metadata": {},
     "output_type": "execute_result"
    }
   ],
   "source": [
    "train_pred=l.predict(x_train)\n",
    "train_pred"
   ]
  },
  {
   "cell_type": "code",
   "execution_count": 184,
   "id": "37bd702d",
   "metadata": {},
   "outputs": [],
   "source": [
    "error=y_train-train_pred"
   ]
  },
  {
   "cell_type": "code",
   "execution_count": 185,
   "id": "4e0a5107",
   "metadata": {},
   "outputs": [
    {
     "data": {
      "text/plain": [
       "110   -2.534365\n",
       "17    -2.374317\n",
       "320    3.919739\n",
       "24    -2.159204\n",
       "128   -2.823935\n",
       "         ...   \n",
       "72    -0.388793\n",
       "107   -2.773482\n",
       "272   -0.814733\n",
       "352    0.190537\n",
       "103    0.581281\n",
       "Name: Kilometer_per_liter, Length: 274, dtype: float64"
      ]
     },
     "execution_count": 185,
     "metadata": {},
     "output_type": "execute_result"
    }
   ],
   "source": [
    "error"
   ]
  },
  {
   "cell_type": "code",
   "execution_count": 186,
   "id": "b27c35db",
   "metadata": {},
   "outputs": [
    {
     "data": {
      "text/plain": [
       "<AxesSubplot:xlabel='Kilometer_per_liter', ylabel='Density'>"
      ]
     },
     "execution_count": 186,
     "metadata": {},
     "output_type": "execute_result"
    },
    {
     "data": {
      "image/png": "[encoded data removed]",
      "text/plain": [
       "<Figure size 432x288 with 1 Axes>"
      ]
     },
     "metadata": {
      "needs_background": "light"
     },
     "output_type": "display_data"
    }
   ],
   "source": [
    "sns.kdeplot(error)"
   ]
  },
  {
   "cell_type": "code",
   "execution_count": 187,
   "id": "01546e7f",
   "metadata": {},
   "outputs": [],
   "source": [
    "from sklearn.metrics import mean_squared_error,r2_score"
   ]
  },
  {
   "cell_type": "code",
   "execution_count": 188,
   "id": "18ee20ca",
   "metadata": {},
   "outputs": [
    {
     "data": {
      "text/plain": [
       "3.2133145524225517"
      ]
     },
     "execution_count": 188,
     "metadata": {},
     "output_type": "execute_result"
    }
   ],
   "source": [
    "mean_squared_error(train_pred,y_train)"
   ]
  },
  {
   "cell_type": "code",
   "execution_count": 189,
   "id": "231c2568",
   "metadata": {},
   "outputs": [
    {
     "data": {
      "text/plain": [
       "1.7925720494369402"
      ]
     },
     "execution_count": 189,
     "metadata": {},
     "output_type": "execute_result"
    }
   ],
   "source": [
    "np.sqrt(mean_squared_error(train_pred,y_train))     #Train RMSE"
   ]
  },
  {
   "cell_type": "code",
   "execution_count": 190,
   "id": "272248f8",
   "metadata": {},
   "outputs": [
    {
     "data": {
      "text/plain": [
       "0.7223269016944681"
      ]
     },
     "execution_count": 190,
     "metadata": {},
     "output_type": "execute_result"
    }
   ],
   "source": [
    "r2_score(y_train,train_pred)   # R sq of Train RMSE"
   ]
  },
  {
   "cell_type": "markdown",
   "id": "5c46080f",
   "metadata": {},
   "source": [
    "## TEST RMSE"
   ]
  },
  {
   "cell_type": "code",
   "execution_count": 191,
   "id": "1452e5bc",
   "metadata": {},
   "outputs": [
    {
     "data": {
      "text/plain": [
       "array([12.88058251, 10.51312165, 13.93575584, 13.29500233, 11.13167743,\n",
       "       12.83844838,  4.1728995 , 12.57639736,  9.59288036, 14.0894818 ,\n",
       "        5.6283692 , 10.26258834,  5.45466764, 12.81502589,  8.66523278,\n",
       "       11.48754889, 10.02314781, 12.38930361, 11.60977544, 11.75712005,\n",
       "       10.58845273, 13.25146318, 13.38170124,  8.02127624, 13.51169628,\n",
       "       12.27693625, 10.72448796,  9.01387906, 13.83687638, 11.95889707,\n",
       "        5.54991561,  9.76402092,  8.03847173, 11.75347408,  5.21581479,\n",
       "       13.38074937,  5.42733916, 12.76316878,  6.12186417,  3.49678236,\n",
       "        6.77760418, 12.98295441, 13.20600342, 12.51684785,  5.04763267,\n",
       "        2.98245927,  9.35452035, 13.09413583, 12.1619626 , 13.47545279,\n",
       "        5.94478203, 12.06880038, 12.10116162, 12.46535706, 10.05571731,\n",
       "        8.31062539,  9.22339986, 10.15149534, 11.86665408, 12.20305256,\n",
       "        2.24608131, 10.00751092, 10.54696526, 10.80073323, 11.51694991,\n",
       "       12.47361387, 11.23008907, 13.47989329,  8.89672979,  4.24923154,\n",
       "       12.15893108,  5.54821782, 10.81976545, 12.72454485,  9.41052942,\n",
       "       12.72873643,  6.29490869,  7.70375622, 12.62328927,  8.45900622,\n",
       "       11.44528434, 10.37273033,  6.19387234, 13.71078588,  4.54487826,\n",
       "       13.83043478, 10.0591354 ,  9.14559688,  7.41583819,  8.30265026,\n",
       "       10.84467972, 10.51146643, 13.37109946, 11.69464144,  8.71250973,\n",
       "        8.1041258 , 10.33218202,  4.50576928, 11.43941786, 10.65598204,\n",
       "        3.4007072 ,  7.80309751,  3.89198905, 14.08015896, 12.90316899,\n",
       "       13.29752533, 14.06550713, 11.57881795, 10.63945081,  7.12708804,\n",
       "       13.45241967, 13.48467577, 12.32659041, 11.99648607, 13.39637617,\n",
       "       11.26015925,  7.24490346, 10.16795388])"
      ]
     },
     "execution_count": 191,
     "metadata": {},
     "output_type": "execute_result"
    }
   ],
   "source": [
    "test_pred=l.predict(x_test)\n",
    "test_pred"
   ]
  },
  {
   "cell_type": "code",
   "execution_count": 192,
   "id": "98e627f4",
   "metadata": {},
   "outputs": [
    {
     "data": {
      "text/plain": [
       "3.380585743403851"
      ]
     },
     "execution_count": 192,
     "metadata": {},
     "output_type": "execute_result"
    }
   ],
   "source": [
    "mean_squared_error(test_pred,y_test)"
   ]
  },
  {
   "cell_type": "code",
   "execution_count": 193,
   "id": "bff35fbf",
   "metadata": {},
   "outputs": [
    {
     "data": {
      "text/plain": [
       "1.8386369253889825"
      ]
     },
     "execution_count": 193,
     "metadata": {},
     "output_type": "execute_result"
    }
   ],
   "source": [
    "np.sqrt(mean_squared_error(test_pred,y_test))   #Test RMSE"
   ]
  },
  {
   "cell_type": "code",
   "execution_count": 194,
   "id": "d0337ed5",
   "metadata": {},
   "outputs": [
    {
     "data": {
      "text/plain": [
       "0.6464709361799634"
      ]
     },
     "execution_count": 194,
     "metadata": {},
     "output_type": "execute_result"
    }
   ],
   "source": [
    "r2_score(y_test,test_pred)    #test r sq"
   ]
  },
  {
   "cell_type": "markdown",
   "id": "98c90738",
   "metadata": {},
   "source": [
    "#### Adding constants to perform matrix multiplication"
   ]
  },
  {
   "cell_type": "code",
   "execution_count": 195,
   "id": "3bf30034",
   "metadata": {},
   "outputs": [],
   "source": [
    "import statsmodels.api as sm"
   ]
  },
  {
   "cell_type": "code",
   "execution_count": 196,
   "id": "82ee81fb",
   "metadata": {},
   "outputs": [
    {
     "data": {
      "text/html": [
       "<div>\n",
       "<style scoped>\n",
       "    .dataframe tbody tr th:only-of-type {\n",
       "        vertical-align: middle;\n",
       "    }\n",
       "\n",
       "    .dataframe tbody tr th {\n",
       "        vertical-align: top;\n",
       "    }\n",
       "\n",
       "    .dataframe thead th {\n",
       "        text-align: right;\n",
       "    }\n",
       "</style>\n",
       "<table border=\"1\" class=\"dataframe\">\n",
       "  <thead>\n",
       "    <tr style=\"text-align: right;\">\n",
       "      <th></th>\n",
       "      <th>const</th>\n",
       "      <th>displacement</th>\n",
       "      <th>horsepower</th>\n",
       "      <th>weight</th>\n",
       "      <th>acceleration</th>\n",
       "    </tr>\n",
       "  </thead>\n",
       "  <tbody>\n",
       "    <tr>\n",
       "      <th>110</th>\n",
       "      <td>1.0</td>\n",
       "      <td>108.0</td>\n",
       "      <td>94.0</td>\n",
       "      <td>2379</td>\n",
       "      <td>16.5</td>\n",
       "    </tr>\n",
       "    <tr>\n",
       "      <th>17</th>\n",
       "      <td>1.0</td>\n",
       "      <td>200.0</td>\n",
       "      <td>85.0</td>\n",
       "      <td>2587</td>\n",
       "      <td>16.0</td>\n",
       "    </tr>\n",
       "    <tr>\n",
       "      <th>320</th>\n",
       "      <td>1.0</td>\n",
       "      <td>119.0</td>\n",
       "      <td>92.0</td>\n",
       "      <td>2434</td>\n",
       "      <td>15.0</td>\n",
       "    </tr>\n",
       "    <tr>\n",
       "      <th>24</th>\n",
       "      <td>1.0</td>\n",
       "      <td>199.0</td>\n",
       "      <td>90.0</td>\n",
       "      <td>2648</td>\n",
       "      <td>15.0</td>\n",
       "    </tr>\n",
       "    <tr>\n",
       "      <th>128</th>\n",
       "      <td>1.0</td>\n",
       "      <td>250.0</td>\n",
       "      <td>100.0</td>\n",
       "      <td>3336</td>\n",
       "      <td>17.0</td>\n",
       "    </tr>\n",
       "    <tr>\n",
       "      <th>...</th>\n",
       "      <td>...</td>\n",
       "      <td>...</td>\n",
       "      <td>...</td>\n",
       "      <td>...</td>\n",
       "      <td>...</td>\n",
       "    </tr>\n",
       "    <tr>\n",
       "      <th>72</th>\n",
       "      <td>1.0</td>\n",
       "      <td>304.0</td>\n",
       "      <td>150.0</td>\n",
       "      <td>3892</td>\n",
       "      <td>12.5</td>\n",
       "    </tr>\n",
       "    <tr>\n",
       "      <th>107</th>\n",
       "      <td>1.0</td>\n",
       "      <td>232.0</td>\n",
       "      <td>100.0</td>\n",
       "      <td>2789</td>\n",
       "      <td>15.0</td>\n",
       "    </tr>\n",
       "    <tr>\n",
       "      <th>272</th>\n",
       "      <td>1.0</td>\n",
       "      <td>151.0</td>\n",
       "      <td>85.0</td>\n",
       "      <td>2855</td>\n",
       "      <td>17.6</td>\n",
       "    </tr>\n",
       "    <tr>\n",
       "      <th>352</th>\n",
       "      <td>1.0</td>\n",
       "      <td>98.0</td>\n",
       "      <td>65.0</td>\n",
       "      <td>2380</td>\n",
       "      <td>20.7</td>\n",
       "    </tr>\n",
       "    <tr>\n",
       "      <th>103</th>\n",
       "      <td>1.0</td>\n",
       "      <td>400.0</td>\n",
       "      <td>150.0</td>\n",
       "      <td>4997</td>\n",
       "      <td>14.0</td>\n",
       "    </tr>\n",
       "  </tbody>\n",
       "</table>\n",
       "<p>274 rows × 5 columns</p>\n",
       "</div>"
      ],
      "text/plain": [
       "     const  displacement  horsepower  weight  acceleration\n",
       "110    1.0         108.0        94.0    2379          16.5\n",
       "17     1.0         200.0        85.0    2587          16.0\n",
       "320    1.0         119.0        92.0    2434          15.0\n",
       "24     1.0         199.0        90.0    2648          15.0\n",
       "128    1.0         250.0       100.0    3336          17.0\n",
       "..     ...           ...         ...     ...           ...\n",
       "72     1.0         304.0       150.0    3892          12.5\n",
       "107    1.0         232.0       100.0    2789          15.0\n",
       "272    1.0         151.0        85.0    2855          17.6\n",
       "352    1.0          98.0        65.0    2380          20.7\n",
       "103    1.0         400.0       150.0    4997          14.0\n",
       "\n",
       "[274 rows x 5 columns]"
      ]
     },
     "execution_count": 196,
     "metadata": {},
     "output_type": "execute_result"
    }
   ],
   "source": [
    "x_train1=sm.add_constant(x_train)\n",
    "x_train1"
   ]
  },
  {
   "cell_type": "code",
   "execution_count": 197,
   "id": "ccc52d92",
   "metadata": {},
   "outputs": [],
   "source": [
    "model=sm.OLS(y_train,x_train1).fit()\n"
   ]
  },
  {
   "cell_type": "code",
   "execution_count": 198,
   "id": "40ddf07c",
   "metadata": {},
   "outputs": [
    {
     "data": {
      "text/html": [
       "<table class=\"simpletable\">\n",
       "<caption>OLS Regression Results</caption>\n",
       "<tr>\n",
       "  <th>Dep. Variable:</th>    <td>Kilometer_per_liter</td> <th>  R-squared:         </th> <td>   0.722</td>\n",
       "</tr>\n",
       "<tr>\n",
       "  <th>Model:</th>                    <td>OLS</td>         <th>  Adj. R-squared:    </th> <td>   0.718</td>\n",
       "</tr>\n",
       "<tr>\n",
       "  <th>Method:</th>              <td>Least Squares</td>    <th>  F-statistic:       </th> <td>   174.9</td>\n",
       "</tr>\n",
       "<tr>\n",
       "  <th>Date:</th>              <td>Thu, 10 Feb 2022</td>   <th>  Prob (F-statistic):</th> <td>1.40e-73</td>\n",
       "</tr>\n",
       "<tr>\n",
       "  <th>Time:</th>                  <td>15:59:16</td>       <th>  Log-Likelihood:    </th> <td> -548.71</td>\n",
       "</tr>\n",
       "<tr>\n",
       "  <th>No. Observations:</th>       <td>   274</td>        <th>  AIC:               </th> <td>   1107.</td>\n",
       "</tr>\n",
       "<tr>\n",
       "  <th>Df Residuals:</th>           <td>   269</td>        <th>  BIC:               </th> <td>   1125.</td>\n",
       "</tr>\n",
       "<tr>\n",
       "  <th>Df Model:</th>               <td>     4</td>        <th>                     </th>     <td> </td>   \n",
       "</tr>\n",
       "<tr>\n",
       "  <th>Covariance Type:</th>       <td>nonrobust</td>      <th>                     </th>     <td> </td>   \n",
       "</tr>\n",
       "</table>\n",
       "<table class=\"simpletable\">\n",
       "<tr>\n",
       "        <td></td>          <th>coef</th>     <th>std err</th>      <th>t</th>      <th>P>|t|</th>  <th>[0.025</th>    <th>0.975]</th>  \n",
       "</tr>\n",
       "<tr>\n",
       "  <th>const</th>        <td>   19.7399</td> <td>    1.234</td> <td>   15.994</td> <td> 0.000</td> <td>   17.310</td> <td>   22.170</td>\n",
       "</tr>\n",
       "<tr>\n",
       "  <th>displacement</th> <td>   -0.0042</td> <td>    0.003</td> <td>   -1.259</td> <td> 0.209</td> <td>   -0.011</td> <td>    0.002</td>\n",
       "</tr>\n",
       "<tr>\n",
       "  <th>horsepower</th>   <td>   -0.0237</td> <td>    0.008</td> <td>   -2.864</td> <td> 0.005</td> <td>   -0.040</td> <td>   -0.007</td>\n",
       "</tr>\n",
       "<tr>\n",
       "  <th>weight</th>       <td>   -0.0020</td> <td>    0.000</td> <td>   -4.964</td> <td> 0.000</td> <td>   -0.003</td> <td>   -0.001</td>\n",
       "</tr>\n",
       "<tr>\n",
       "  <th>acceleration</th> <td>   -0.0222</td> <td>    0.062</td> <td>   -0.358</td> <td> 0.721</td> <td>   -0.144</td> <td>    0.100</td>\n",
       "</tr>\n",
       "</table>\n",
       "<table class=\"simpletable\">\n",
       "<tr>\n",
       "  <th>Omnibus:</th>       <td>29.945</td> <th>  Durbin-Watson:     </th> <td>   2.183</td>\n",
       "</tr>\n",
       "<tr>\n",
       "  <th>Prob(Omnibus):</th> <td> 0.000</td> <th>  Jarque-Bera (JB):  </th> <td>  39.189</td>\n",
       "</tr>\n",
       "<tr>\n",
       "  <th>Skew:</th>          <td> 0.757</td> <th>  Prob(JB):          </th> <td>3.09e-09</td>\n",
       "</tr>\n",
       "<tr>\n",
       "  <th>Kurtosis:</th>      <td> 4.068</td> <th>  Cond. No.          </th> <td>3.52e+04</td>\n",
       "</tr>\n",
       "</table><br/><br/>Notes:<br/>[1] Standard Errors assume that the covariance matrix of the errors is correctly specified.<br/>[2] The condition number is large, 3.52e+04. This might indicate that there are<br/>strong multicollinearity or other numerical problems."
      ],
      "text/plain": [
       "<class 'statsmodels.iolib.summary.Summary'>\n",
       "\"\"\"\n",
       "                             OLS Regression Results                            \n",
       "===============================================================================\n",
       "Dep. Variable:     Kilometer_per_liter   R-squared:                       0.722\n",
       "Model:                             OLS   Adj. R-squared:                  0.718\n",
       "Method:                  Least Squares   F-statistic:                     174.9\n",
       "Date:                 Thu, 10 Feb 2022   Prob (F-statistic):           1.40e-73\n",
       "Time:                         15:59:16   Log-Likelihood:                -548.71\n",
       "No. Observations:                  274   AIC:                             1107.\n",
       "Df Residuals:                      269   BIC:                             1125.\n",
       "Df Model:                            4                                         \n",
       "Covariance Type:             nonrobust                                         \n",
       "================================================================================\n",
       "                   coef    std err          t      P>|t|      [0.025      0.975]\n",
       "--------------------------------------------------------------------------------\n",
       "const           19.7399      1.234     15.994      0.000      17.310      22.170\n",
       "displacement    -0.0042      0.003     -1.259      0.209      -0.011       0.002\n",
       "horsepower      -0.0237      0.008     -2.864      0.005      -0.040      -0.007\n",
       "weight          -0.0020      0.000     -4.964      0.000      -0.003      -0.001\n",
       "acceleration    -0.0222      0.062     -0.358      0.721      -0.144       0.100\n",
       "==============================================================================\n",
       "Omnibus:                       29.945   Durbin-Watson:                   2.183\n",
       "Prob(Omnibus):                  0.000   Jarque-Bera (JB):               39.189\n",
       "Skew:                           0.757   Prob(JB):                     3.09e-09\n",
       "Kurtosis:                       4.068   Cond. No.                     3.52e+04\n",
       "==============================================================================\n",
       "\n",
       "Notes:\n",
       "[1] Standard Errors assume that the covariance matrix of the errors is correctly specified.\n",
       "[2] The condition number is large, 3.52e+04. This might indicate that there are\n",
       "strong multicollinearity or other numerical problems.\n",
       "\"\"\""
      ]
     },
     "execution_count": 198,
     "metadata": {},
     "output_type": "execute_result"
    }
   ],
   "source": [
    "model.summary()"
   ]
  },
  {
   "cell_type": "markdown",
   "id": "8f69c719",
   "metadata": {},
   "source": [
    "#### dropping displacement "
   ]
  },
  {
   "cell_type": "code",
   "execution_count": 199,
   "id": "fe61d18d",
   "metadata": {},
   "outputs": [
    {
     "data": {
      "text/html": [
       "<table class=\"simpletable\">\n",
       "<caption>OLS Regression Results</caption>\n",
       "<tr>\n",
       "  <th>Dep. Variable:</th>    <td>Kilometer_per_liter</td> <th>  R-squared:         </th> <td>   0.721</td>\n",
       "</tr>\n",
       "<tr>\n",
       "  <th>Model:</th>                    <td>OLS</td>         <th>  Adj. R-squared:    </th> <td>   0.718</td>\n",
       "</tr>\n",
       "<tr>\n",
       "  <th>Method:</th>              <td>Least Squares</td>    <th>  F-statistic:       </th> <td>   232.2</td>\n",
       "</tr>\n",
       "<tr>\n",
       "  <th>Date:</th>              <td>Thu, 10 Feb 2022</td>   <th>  Prob (F-statistic):</th> <td>1.86e-74</td>\n",
       "</tr>\n",
       "<tr>\n",
       "  <th>Time:</th>                  <td>15:59:16</td>       <th>  Log-Likelihood:    </th> <td> -549.51</td>\n",
       "</tr>\n",
       "<tr>\n",
       "  <th>No. Observations:</th>       <td>   274</td>        <th>  AIC:               </th> <td>   1107.</td>\n",
       "</tr>\n",
       "<tr>\n",
       "  <th>Df Residuals:</th>           <td>   270</td>        <th>  BIC:               </th> <td>   1121.</td>\n",
       "</tr>\n",
       "<tr>\n",
       "  <th>Df Model:</th>               <td>     3</td>        <th>                     </th>     <td> </td>   \n",
       "</tr>\n",
       "<tr>\n",
       "  <th>Covariance Type:</th>       <td>nonrobust</td>      <th>                     </th>     <td> </td>   \n",
       "</tr>\n",
       "</table>\n",
       "<table class=\"simpletable\">\n",
       "<tr>\n",
       "        <td></td>          <th>coef</th>     <th>std err</th>      <th>t</th>      <th>P>|t|</th>  <th>[0.025</th>    <th>0.975]</th>  \n",
       "</tr>\n",
       "<tr>\n",
       "  <th>const</th>        <td>   20.0423</td> <td>    1.212</td> <td>   16.538</td> <td> 0.000</td> <td>   17.656</td> <td>   22.428</td>\n",
       "</tr>\n",
       "<tr>\n",
       "  <th>horsepower</th>   <td>   -0.0263</td> <td>    0.008</td> <td>   -3.294</td> <td> 0.001</td> <td>   -0.042</td> <td>   -0.011</td>\n",
       "</tr>\n",
       "<tr>\n",
       "  <th>weight</th>       <td>   -0.0024</td> <td>    0.000</td> <td>   -8.308</td> <td> 0.000</td> <td>   -0.003</td> <td>   -0.002</td>\n",
       "</tr>\n",
       "<tr>\n",
       "  <th>acceleration</th> <td>   -0.0074</td> <td>    0.061</td> <td>   -0.121</td> <td> 0.904</td> <td>   -0.128</td> <td>    0.113</td>\n",
       "</tr>\n",
       "</table>\n",
       "<table class=\"simpletable\">\n",
       "<tr>\n",
       "  <th>Omnibus:</th>       <td>25.889</td> <th>  Durbin-Watson:     </th> <td>   2.195</td>\n",
       "</tr>\n",
       "<tr>\n",
       "  <th>Prob(Omnibus):</th> <td> 0.000</td> <th>  Jarque-Bera (JB):  </th> <td>  32.342</td>\n",
       "</tr>\n",
       "<tr>\n",
       "  <th>Skew:</th>          <td> 0.696</td> <th>  Prob(JB):          </th> <td>9.48e-08</td>\n",
       "</tr>\n",
       "<tr>\n",
       "  <th>Kurtosis:</th>      <td> 3.946</td> <th>  Cond. No.          </th> <td>3.44e+04</td>\n",
       "</tr>\n",
       "</table><br/><br/>Notes:<br/>[1] Standard Errors assume that the covariance matrix of the errors is correctly specified.<br/>[2] The condition number is large, 3.44e+04. This might indicate that there are<br/>strong multicollinearity or other numerical problems."
      ],
      "text/plain": [
       "<class 'statsmodels.iolib.summary.Summary'>\n",
       "\"\"\"\n",
       "                             OLS Regression Results                            \n",
       "===============================================================================\n",
       "Dep. Variable:     Kilometer_per_liter   R-squared:                       0.721\n",
       "Model:                             OLS   Adj. R-squared:                  0.718\n",
       "Method:                  Least Squares   F-statistic:                     232.2\n",
       "Date:                 Thu, 10 Feb 2022   Prob (F-statistic):           1.86e-74\n",
       "Time:                         15:59:16   Log-Likelihood:                -549.51\n",
       "No. Observations:                  274   AIC:                             1107.\n",
       "Df Residuals:                      270   BIC:                             1121.\n",
       "Df Model:                            3                                         \n",
       "Covariance Type:             nonrobust                                         \n",
       "================================================================================\n",
       "                   coef    std err          t      P>|t|      [0.025      0.975]\n",
       "--------------------------------------------------------------------------------\n",
       "const           20.0423      1.212     16.538      0.000      17.656      22.428\n",
       "horsepower      -0.0263      0.008     -3.294      0.001      -0.042      -0.011\n",
       "weight          -0.0024      0.000     -8.308      0.000      -0.003      -0.002\n",
       "acceleration    -0.0074      0.061     -0.121      0.904      -0.128       0.113\n",
       "==============================================================================\n",
       "Omnibus:                       25.889   Durbin-Watson:                   2.195\n",
       "Prob(Omnibus):                  0.000   Jarque-Bera (JB):               32.342\n",
       "Skew:                           0.696   Prob(JB):                     9.48e-08\n",
       "Kurtosis:                       3.946   Cond. No.                     3.44e+04\n",
       "==============================================================================\n",
       "\n",
       "Notes:\n",
       "[1] Standard Errors assume that the covariance matrix of the errors is correctly specified.\n",
       "[2] The condition number is large, 3.44e+04. This might indicate that there are\n",
       "strong multicollinearity or other numerical problems.\n",
       "\"\"\""
      ]
     },
     "execution_count": 199,
     "metadata": {},
     "output_type": "execute_result"
    }
   ],
   "source": [
    "x_train2=x_train1.drop(labels='displacement',axis=1)\n",
    "sm.OLS(y_train,sm.add_constant(x_train2)).fit().summary()"
   ]
  },
  {
   "cell_type": "markdown",
   "id": "39cb4c8d",
   "metadata": {},
   "source": [
    "#### Dropping acceleration"
   ]
  },
  {
   "cell_type": "code",
   "execution_count": 200,
   "id": "a4006220",
   "metadata": {},
   "outputs": [
    {
     "data": {
      "text/html": [
       "<table class=\"simpletable\">\n",
       "<caption>OLS Regression Results</caption>\n",
       "<tr>\n",
       "  <th>Dep. Variable:</th>    <td>Kilometer_per_liter</td> <th>  R-squared:         </th> <td>   0.722</td>\n",
       "</tr>\n",
       "<tr>\n",
       "  <th>Model:</th>                    <td>OLS</td>         <th>  Adj. R-squared:    </th> <td>   0.719</td>\n",
       "</tr>\n",
       "<tr>\n",
       "  <th>Method:</th>              <td>Least Squares</td>    <th>  F-statistic:       </th> <td>   234.0</td>\n",
       "</tr>\n",
       "<tr>\n",
       "  <th>Date:</th>              <td>Thu, 10 Feb 2022</td>   <th>  Prob (F-statistic):</th> <td>8.99e-75</td>\n",
       "</tr>\n",
       "<tr>\n",
       "  <th>Time:</th>                  <td>15:59:16</td>       <th>  Log-Likelihood:    </th> <td> -548.77</td>\n",
       "</tr>\n",
       "<tr>\n",
       "  <th>No. Observations:</th>       <td>   274</td>        <th>  AIC:               </th> <td>   1106.</td>\n",
       "</tr>\n",
       "<tr>\n",
       "  <th>Df Residuals:</th>           <td>   270</td>        <th>  BIC:               </th> <td>   1120.</td>\n",
       "</tr>\n",
       "<tr>\n",
       "  <th>Df Model:</th>               <td>     3</td>        <th>                     </th>     <td> </td>   \n",
       "</tr>\n",
       "<tr>\n",
       "  <th>Covariance Type:</th>       <td>nonrobust</td>      <th>                     </th>     <td> </td>   \n",
       "</tr>\n",
       "</table>\n",
       "<table class=\"simpletable\">\n",
       "<tr>\n",
       "        <td></td>          <th>coef</th>     <th>std err</th>      <th>t</th>      <th>P>|t|</th>  <th>[0.025</th>    <th>0.975]</th>  \n",
       "</tr>\n",
       "<tr>\n",
       "  <th>const</th>        <td>   19.3562</td> <td>    0.609</td> <td>   31.794</td> <td> 0.000</td> <td>   18.158</td> <td>   20.555</td>\n",
       "</tr>\n",
       "<tr>\n",
       "  <th>displacement</th> <td>   -0.0040</td> <td>    0.003</td> <td>   -1.215</td> <td> 0.225</td> <td>   -0.010</td> <td>    0.002</td>\n",
       "</tr>\n",
       "<tr>\n",
       "  <th>horsepower</th>   <td>   -0.0218</td> <td>    0.006</td> <td>   -3.428</td> <td> 0.001</td> <td>   -0.034</td> <td>   -0.009</td>\n",
       "</tr>\n",
       "<tr>\n",
       "  <th>weight</th>       <td>   -0.0021</td> <td>    0.000</td> <td>   -5.818</td> <td> 0.000</td> <td>   -0.003</td> <td>   -0.001</td>\n",
       "</tr>\n",
       "</table>\n",
       "<table class=\"simpletable\">\n",
       "<tr>\n",
       "  <th>Omnibus:</th>       <td>28.973</td> <th>  Durbin-Watson:     </th> <td>   2.180</td>\n",
       "</tr>\n",
       "<tr>\n",
       "  <th>Prob(Omnibus):</th> <td> 0.000</td> <th>  Jarque-Bera (JB):  </th> <td>  37.575</td>\n",
       "</tr>\n",
       "<tr>\n",
       "  <th>Skew:</th>          <td> 0.741</td> <th>  Prob(JB):          </th> <td>6.93e-09</td>\n",
       "</tr>\n",
       "<tr>\n",
       "  <th>Kurtosis:</th>      <td> 4.045</td> <th>  Cond. No.          </th> <td>1.74e+04</td>\n",
       "</tr>\n",
       "</table><br/><br/>Notes:<br/>[1] Standard Errors assume that the covariance matrix of the errors is correctly specified.<br/>[2] The condition number is large, 1.74e+04. This might indicate that there are<br/>strong multicollinearity or other numerical problems."
      ],
      "text/plain": [
       "<class 'statsmodels.iolib.summary.Summary'>\n",
       "\"\"\"\n",
       "                             OLS Regression Results                            \n",
       "===============================================================================\n",
       "Dep. Variable:     Kilometer_per_liter   R-squared:                       0.722\n",
       "Model:                             OLS   Adj. R-squared:                  0.719\n",
       "Method:                  Least Squares   F-statistic:                     234.0\n",
       "Date:                 Thu, 10 Feb 2022   Prob (F-statistic):           8.99e-75\n",
       "Time:                         15:59:16   Log-Likelihood:                -548.77\n",
       "No. Observations:                  274   AIC:                             1106.\n",
       "Df Residuals:                      270   BIC:                             1120.\n",
       "Df Model:                            3                                         \n",
       "Covariance Type:             nonrobust                                         \n",
       "================================================================================\n",
       "                   coef    std err          t      P>|t|      [0.025      0.975]\n",
       "--------------------------------------------------------------------------------\n",
       "const           19.3562      0.609     31.794      0.000      18.158      20.555\n",
       "displacement    -0.0040      0.003     -1.215      0.225      -0.010       0.002\n",
       "horsepower      -0.0218      0.006     -3.428      0.001      -0.034      -0.009\n",
       "weight          -0.0021      0.000     -5.818      0.000      -0.003      -0.001\n",
       "==============================================================================\n",
       "Omnibus:                       28.973   Durbin-Watson:                   2.180\n",
       "Prob(Omnibus):                  0.000   Jarque-Bera (JB):               37.575\n",
       "Skew:                           0.741   Prob(JB):                     6.93e-09\n",
       "Kurtosis:                       4.045   Cond. No.                     1.74e+04\n",
       "==============================================================================\n",
       "\n",
       "Notes:\n",
       "[1] Standard Errors assume that the covariance matrix of the errors is correctly specified.\n",
       "[2] The condition number is large, 1.74e+04. This might indicate that there are\n",
       "strong multicollinearity or other numerical problems.\n",
       "\"\"\""
      ]
     },
     "execution_count": 200,
     "metadata": {},
     "output_type": "execute_result"
    }
   ],
   "source": [
    "x_train2=x_train1.drop(labels='acceleration',axis=1)\n",
    "sm.OLS(y_train,sm.add_constant(x_train2)).fit().summary()"
   ]
  },
  {
   "cell_type": "markdown",
   "id": "c0c473b3",
   "metadata": {},
   "source": [
    "#### dropping both displacement and acceleration from x_train1"
   ]
  },
  {
   "cell_type": "code",
   "execution_count": 201,
   "id": "46fff7fe",
   "metadata": {},
   "outputs": [
    {
     "data": {
      "text/html": [
       "<table class=\"simpletable\">\n",
       "<caption>OLS Regression Results</caption>\n",
       "<tr>\n",
       "  <th>Dep. Variable:</th>    <td>Kilometer_per_liter</td> <th>  R-squared:         </th> <td>   0.721</td>\n",
       "</tr>\n",
       "<tr>\n",
       "  <th>Model:</th>                    <td>OLS</td>         <th>  Adj. R-squared:    </th> <td>   0.719</td>\n",
       "</tr>\n",
       "<tr>\n",
       "  <th>Method:</th>              <td>Least Squares</td>    <th>  F-statistic:       </th> <td>   349.6</td>\n",
       "</tr>\n",
       "<tr>\n",
       "  <th>Date:</th>              <td>Thu, 10 Feb 2022</td>   <th>  Prob (F-statistic):</th> <td>8.86e-76</td>\n",
       "</tr>\n",
       "<tr>\n",
       "  <th>Time:</th>                  <td>15:59:16</td>       <th>  Log-Likelihood:    </th> <td> -549.52</td>\n",
       "</tr>\n",
       "<tr>\n",
       "  <th>No. Observations:</th>       <td>   274</td>        <th>  AIC:               </th> <td>   1105.</td>\n",
       "</tr>\n",
       "<tr>\n",
       "  <th>Df Residuals:</th>           <td>   271</td>        <th>  BIC:               </th> <td>   1116.</td>\n",
       "</tr>\n",
       "<tr>\n",
       "  <th>Df Model:</th>               <td>     2</td>        <th>                     </th>     <td> </td>   \n",
       "</tr>\n",
       "<tr>\n",
       "  <th>Covariance Type:</th>       <td>nonrobust</td>      <th>                     </th>     <td> </td>   \n",
       "</tr>\n",
       "</table>\n",
       "<table class=\"simpletable\">\n",
       "<tr>\n",
       "       <td></td>         <th>coef</th>     <th>std err</th>      <th>t</th>      <th>P>|t|</th>  <th>[0.025</th>    <th>0.975]</th>  \n",
       "</tr>\n",
       "<tr>\n",
       "  <th>const</th>      <td>   19.9044</td> <td>    0.409</td> <td>   48.659</td> <td> 0.000</td> <td>   19.099</td> <td>   20.710</td>\n",
       "</tr>\n",
       "<tr>\n",
       "  <th>horsepower</th> <td>   -0.0256</td> <td>    0.006</td> <td>   -4.651</td> <td> 0.000</td> <td>   -0.037</td> <td>   -0.015</td>\n",
       "</tr>\n",
       "<tr>\n",
       "  <th>weight</th>     <td>   -0.0024</td> <td>    0.000</td> <td>   -9.572</td> <td> 0.000</td> <td>   -0.003</td> <td>   -0.002</td>\n",
       "</tr>\n",
       "</table>\n",
       "<table class=\"simpletable\">\n",
       "<tr>\n",
       "  <th>Omnibus:</th>       <td>25.662</td> <th>  Durbin-Watson:     </th> <td>   2.194</td>\n",
       "</tr>\n",
       "<tr>\n",
       "  <th>Prob(Omnibus):</th> <td> 0.000</td> <th>  Jarque-Bera (JB):  </th> <td>  31.999</td>\n",
       "</tr>\n",
       "<tr>\n",
       "  <th>Skew:</th>          <td> 0.692</td> <th>  Prob(JB):          </th> <td>1.13e-07</td>\n",
       "</tr>\n",
       "<tr>\n",
       "  <th>Kurtosis:</th>      <td> 3.942</td> <th>  Cond. No.          </th> <td>1.16e+04</td>\n",
       "</tr>\n",
       "</table><br/><br/>Notes:<br/>[1] Standard Errors assume that the covariance matrix of the errors is correctly specified.<br/>[2] The condition number is large, 1.16e+04. This might indicate that there are<br/>strong multicollinearity or other numerical problems."
      ],
      "text/plain": [
       "<class 'statsmodels.iolib.summary.Summary'>\n",
       "\"\"\"\n",
       "                             OLS Regression Results                            \n",
       "===============================================================================\n",
       "Dep. Variable:     Kilometer_per_liter   R-squared:                       0.721\n",
       "Model:                             OLS   Adj. R-squared:                  0.719\n",
       "Method:                  Least Squares   F-statistic:                     349.6\n",
       "Date:                 Thu, 10 Feb 2022   Prob (F-statistic):           8.86e-76\n",
       "Time:                         15:59:16   Log-Likelihood:                -549.52\n",
       "No. Observations:                  274   AIC:                             1105.\n",
       "Df Residuals:                      271   BIC:                             1116.\n",
       "Df Model:                            2                                         \n",
       "Covariance Type:             nonrobust                                         \n",
       "==============================================================================\n",
       "                 coef    std err          t      P>|t|      [0.025      0.975]\n",
       "------------------------------------------------------------------------------\n",
       "const         19.9044      0.409     48.659      0.000      19.099      20.710\n",
       "horsepower    -0.0256      0.006     -4.651      0.000      -0.037      -0.015\n",
       "weight        -0.0024      0.000     -9.572      0.000      -0.003      -0.002\n",
       "==============================================================================\n",
       "Omnibus:                       25.662   Durbin-Watson:                   2.194\n",
       "Prob(Omnibus):                  0.000   Jarque-Bera (JB):               31.999\n",
       "Skew:                           0.692   Prob(JB):                     1.13e-07\n",
       "Kurtosis:                       3.942   Cond. No.                     1.16e+04\n",
       "==============================================================================\n",
       "\n",
       "Notes:\n",
       "[1] Standard Errors assume that the covariance matrix of the errors is correctly specified.\n",
       "[2] The condition number is large, 1.16e+04. This might indicate that there are\n",
       "strong multicollinearity or other numerical problems.\n",
       "\"\"\""
      ]
     },
     "execution_count": 201,
     "metadata": {},
     "output_type": "execute_result"
    }
   ],
   "source": [
    "x_train3=x_train2.drop(labels='displacement',axis=1)\n",
    "sm.OLS(y_train,sm.add_constant(x_train3)).fit().summary()"
   ]
  },
  {
   "cell_type": "markdown",
   "id": "cf4c9cb1",
   "metadata": {},
   "source": [
    "#### eventhough the displacement and acceleration is dropped the Rsq value is not increased so make the highest VIF factor weight(IDV) to new DV and build the model again"
   ]
  },
  {
   "cell_type": "markdown",
   "id": "bdb0e6bc",
   "metadata": {},
   "source": [
    "## HOMOSCADACITY"
   ]
  },
  {
   "cell_type": "code",
   "execution_count": 202,
   "id": "d44e2817",
   "metadata": {},
   "outputs": [],
   "source": [
    "import statsmodels.api as sm\n"
   ]
  },
  {
   "cell_type": "code",
   "execution_count": 203,
   "id": "5b4efd82",
   "metadata": {},
   "outputs": [],
   "source": [
    "model=sm.OLS(y_train,x_train1).fit()\n"
   ]
  },
  {
   "cell_type": "code",
   "execution_count": 204,
   "id": "78086b76",
   "metadata": {},
   "outputs": [
    {
     "data": {
      "text/plain": [
       "110   -2.534365\n",
       "17    -2.374317\n",
       "320    3.919739\n",
       "24    -2.159204\n",
       "128   -2.823935\n",
       "         ...   \n",
       "72    -0.388793\n",
       "107   -2.773482\n",
       "272   -0.814733\n",
       "352    0.190537\n",
       "103    0.581281\n",
       "Length: 274, dtype: float64"
      ]
     },
     "execution_count": 204,
     "metadata": {},
     "output_type": "execute_result"
    }
   ],
   "source": [
    "m=model.resid\n",
    "m"
   ]
  },
  {
   "cell_type": "code",
   "execution_count": 205,
   "id": "1040fc08",
   "metadata": {},
   "outputs": [
    {
     "data": {
      "text/plain": [
       "<AxesSubplot:>"
      ]
     },
     "execution_count": 205,
     "metadata": {},
     "output_type": "execute_result"
    },
    {
     "data": {
      "image/png": "[encoded data removed]",
      "text/plain": [
       "<Figure size 432x288 with 1 Axes>"
      ]
     },
     "metadata": {
      "needs_background": "light"
     },
     "output_type": "display_data"
    }
   ],
   "source": [
    "sns.scatterplot(x=train_pred,y=m)"
   ]
  },
  {
   "cell_type": "markdown",
   "id": "c106f95c",
   "metadata": {},
   "source": [
    "## LASSO"
   ]
  },
  {
   "cell_type": "code",
   "execution_count": 206,
   "id": "6eaf1773",
   "metadata": {},
   "outputs": [],
   "source": [
    "from sklearn.linear_model import Lasso"
   ]
  },
  {
   "cell_type": "code",
   "execution_count": 207,
   "id": "666b2461",
   "metadata": {},
   "outputs": [],
   "source": [
    "La=Lasso(alpha=0.1)"
   ]
  },
  {
   "cell_type": "code",
   "execution_count": 208,
   "id": "ad968af9",
   "metadata": {},
   "outputs": [
    {
     "data": {
      "text/plain": [
       "Lasso(alpha=0.1)"
      ]
     },
     "execution_count": 208,
     "metadata": {},
     "output_type": "execute_result"
    }
   ],
   "source": [
    "La.fit(x_train,y_train)"
   ]
  },
  {
   "cell_type": "code",
   "execution_count": 209,
   "id": "23dc9235",
   "metadata": {},
   "outputs": [
    {
     "data": {
      "text/plain": [
       "19.358157947193167"
      ]
     },
     "execution_count": 209,
     "metadata": {},
     "output_type": "execute_result"
    }
   ],
   "source": [
    "La.intercept_"
   ]
  },
  {
   "cell_type": "code",
   "execution_count": 210,
   "id": "42ffb86f",
   "metadata": {},
   "outputs": [
    {
     "data": {
      "text/plain": [
       "array([-0.00400763, -0.0215424 , -0.0020964 , -0.        ])"
      ]
     },
     "execution_count": 210,
     "metadata": {},
     "output_type": "execute_result"
    }
   ],
   "source": [
    "La.coef_"
   ]
  },
  {
   "cell_type": "code",
   "execution_count": 211,
   "id": "20b97b76",
   "metadata": {},
   "outputs": [
    {
     "data": {
      "text/plain": [
       "array([11.91301181, 11.30213978, 11.79671062, 11.07055501,  9.20841832,\n",
       "       13.39867167, 11.20304992, 11.11313746, 13.63112987, 12.69799383,\n",
       "        9.61035111, 12.93665875, 11.47907524, 11.91116464, 10.44800969,\n",
       "       12.8335054 ,  6.87814872, 12.52547859, 11.90939741, 13.38252467,\n",
       "        9.38118296,  6.68736431,  6.33093513,  8.69226755, 10.51640196,\n",
       "       11.8101415 , 12.19543814, 11.08053466, 11.68291267,  3.67163746,\n",
       "        9.04287159, 10.60109448,  6.69155205, 13.33770468,  3.87258405,\n",
       "       11.53405018, 13.43204268, 11.10423304, 13.19384866,  4.89562108,\n",
       "       13.19701025, 13.59244129,  2.99211384, 13.76400332, 11.56968898,\n",
       "        8.43449613,  5.96992261,  4.39176653,  6.39664359,  9.65162323,\n",
       "       13.51234834, 10.57605454,  9.33000953,  8.60725669,  5.16714266,\n",
       "       11.75558498,  5.5772415 , 12.92694048, 10.22019888,  5.17842026,\n",
       "       11.78752926, 11.71415525,  9.42969519, 11.20002947, 10.62980863,\n",
       "       10.19248982, 12.56907756,  5.56177111,  6.47139394, 10.15640716,\n",
       "        9.18340789, 11.85009513, 13.1362558 , 11.99269327,  7.08672515,\n",
       "       12.53617778, 14.0886777 , 13.0247122 ,  6.34330156, 10.80900183,\n",
       "       13.82436919,  4.62685372,  6.98286994, 14.11291332,  6.28356667,\n",
       "        7.28514073, 11.24963656, 14.0886777 , 11.25849771, 10.68147814,\n",
       "       12.75356077, 10.24591531, 11.74979423, 12.71094704,  9.64482416,\n",
       "       10.29831694,  8.72539054, 13.16999266,  5.50871458,  4.30690009,\n",
       "        8.34520667,  8.64824314, 11.12608172,  7.64913914, 11.86876987,\n",
       "        3.83195215,  5.03066336, 13.22209387,  4.64548697,  7.72670594,\n",
       "       13.18984102,  8.99027177, 13.28336966,  7.65579976, 13.67178209,\n",
       "       10.5824827 , 13.51023369,  6.30534664, 11.19897806, 12.60835384,\n",
       "       12.67124584, 13.06834125, 12.29599021, 13.0025914 ,  7.66931007,\n",
       "        8.62019435, 12.54909449,  7.55979205,  9.7449869 , 13.43069607,\n",
       "        7.21049559,  6.4242328 ,  7.21049559, 13.8020813 ,  6.06845342,\n",
       "       12.10339834,  7.92462584,  6.63918303,  9.53820473,  4.06198822,\n",
       "       12.80766287, 14.47640904, 10.88468943, 11.96991624,  6.28098543,\n",
       "        6.13514441, 13.03919736, 11.05292973, 13.47285504,  9.20766836,\n",
       "       10.79637332,  3.55793904, 10.74730272,  6.59255346,  9.11154758,\n",
       "       11.24551288,  7.90143209,  9.08460978, 12.68061668, 10.4301722 ,\n",
       "        8.85528349, 11.41942908,  6.98038749, 11.45629821, 10.10024821,\n",
       "       12.67217615,  5.44097549,  9.87991795, 10.75222866, 12.64670394,\n",
       "        9.58385447, 11.67234176,  4.37340059, 12.75210235,  5.65376585,\n",
       "        7.83201079,  6.39365109,  9.69177023, 12.57753186,  5.9841015 ,\n",
       "        4.79246933,  4.87314143, 12.00755772,  3.41107341,  5.99945468,\n",
       "       12.92212796, 11.88610604,  5.42276217,  6.26551504,  8.90352377,\n",
       "       11.93251257, 13.96616531, 10.45729052, 12.00765127, 12.82736021,\n",
       "       10.12628206,  7.23427163,  9.56570343, 10.10639644,  9.89596049,\n",
       "       11.33187171, 10.0455028 , 11.21680067, 10.71639649, 13.61397668,\n",
       "        8.47503752,  3.20968722, 11.97943574,  9.06506752, 13.0130734 ,\n",
       "        8.59037563,  4.64614946, 14.20168919,  6.65898398, 12.50379878,\n",
       "       12.19095301, 10.03618013,  9.22309312,  6.51448144,  5.40118504,\n",
       "       13.9564424 , 12.9827842 , 10.96567474,  6.21815322, 12.70218663,\n",
       "        6.93426668,  9.42941698, 11.47666986, 13.02929824, 12.03909728,\n",
       "        6.45072319, 11.45579029, 12.69109868, 12.56130703, 13.77009105,\n",
       "       13.83207548, 13.18565287,  9.75802977,  9.52453841, 12.19632729,\n",
       "        7.24881155, 11.08859126, 13.08084182, 12.36257175, 13.36822933,\n",
       "       13.30852182, 10.50970052, 11.89627264, 10.51869942,  8.13495158,\n",
       "       13.30013174, 10.49733931, 13.22741143, 13.47686268, 10.28957851,\n",
       "       13.58321894, 13.40541368, 11.85235988,  8.8428491 ,  7.88444318,\n",
       "       10.12729317, 13.12533476,  6.722894  ,  9.74075404, 13.21338822,\n",
       "       10.92714572, 11.41256418, 11.4415481 ,  5.84070667,  6.74928755,\n",
       "       10.42728663, 10.93667864, 12.57572136,  4.04803244])"
      ]
     },
     "execution_count": 211,
     "metadata": {},
     "output_type": "execute_result"
    }
   ],
   "source": [
    "train_pred1=La.predict(x_train)\n",
    "train_pred1"
   ]
  },
  {
   "cell_type": "code",
   "execution_count": 212,
   "id": "d94fc3c5",
   "metadata": {},
   "outputs": [],
   "source": [
    "error_LA=y_train-train_pred1"
   ]
  },
  {
   "cell_type": "code",
   "execution_count": 213,
   "id": "7cf024dc",
   "metadata": {},
   "outputs": [
    {
     "data": {
      "text/plain": [
       "110   -2.559850\n",
       "17    -2.374122\n",
       "320    3.933607\n",
       "24    -2.142537\n",
       "128   -2.831263\n",
       "         ...   \n",
       "72    -0.372132\n",
       "107   -2.774700\n",
       "272   -0.818258\n",
       "352    0.136075\n",
       "103    0.628548\n",
       "Name: Kilometer_per_liter, Length: 274, dtype: float64"
      ]
     },
     "execution_count": 213,
     "metadata": {},
     "output_type": "execute_result"
    }
   ],
   "source": [
    "error_LA"
   ]
  },
  {
   "cell_type": "code",
   "execution_count": 214,
   "id": "af454485",
   "metadata": {},
   "outputs": [
    {
     "data": {
      "text/plain": [
       "<AxesSubplot:xlabel='Kilometer_per_liter', ylabel='Density'>"
      ]
     },
     "execution_count": 214,
     "metadata": {},
     "output_type": "execute_result"
    },
    {
     "data": {
      "image/png": "[encoded data removed]",
      "text/plain": [
       "<Figure size 432x288 with 1 Axes>"
      ]
     },
     "metadata": {
      "needs_background": "light"
     },
     "output_type": "display_data"
    }
   ],
   "source": [
    "sns.kdeplot(error_LA)"
   ]
  },
  {
   "cell_type": "code",
   "execution_count": 215,
   "id": "ddf39a12",
   "metadata": {},
   "outputs": [],
   "source": [
    "from sklearn.metrics import mean_squared_error,r2_score"
   ]
  },
  {
   "cell_type": "code",
   "execution_count": 216,
   "id": "a76ec0d2",
   "metadata": {},
   "outputs": [
    {
     "data": {
      "text/plain": [
       "3.2148663864178735"
      ]
     },
     "execution_count": 216,
     "metadata": {},
     "output_type": "execute_result"
    }
   ],
   "source": [
    "mean_squared_error(train_pred1,y_train)"
   ]
  },
  {
   "cell_type": "code",
   "execution_count": 217,
   "id": "40a335eb",
   "metadata": {},
   "outputs": [
    {
     "data": {
      "text/plain": [
       "1.7930048484089143"
      ]
     },
     "execution_count": 217,
     "metadata": {},
     "output_type": "execute_result"
    }
   ],
   "source": [
    "np.sqrt(mean_squared_error(train_pred1,y_train))"
   ]
  },
  {
   "cell_type": "code",
   "execution_count": 218,
   "id": "3765c917",
   "metadata": {},
   "outputs": [
    {
     "data": {
      "text/plain": [
       "0.722192802605659"
      ]
     },
     "execution_count": 218,
     "metadata": {},
     "output_type": "execute_result"
    }
   ],
   "source": [
    "r2_score(y_train,train_pred1)"
   ]
  },
  {
   "cell_type": "markdown",
   "id": "e9eaae8c",
   "metadata": {},
   "source": [
    "### LASSO TEST"
   ]
  },
  {
   "cell_type": "code",
   "execution_count": 219,
   "id": "46445909",
   "metadata": {},
   "outputs": [
    {
     "data": {
      "text/plain": [
       "array([12.89797946, 10.5364197 , 13.9273989 , 13.38703287, 11.09548624,\n",
       "       12.83599503,  4.14338088, 12.60539102,  9.567262  , 14.11608209,\n",
       "        5.63098376, 10.26393526,  5.47610908, 12.80245263,  8.69104974,\n",
       "       11.55244924, 10.01508497, 12.38311302, 11.55245372, 11.73249491,\n",
       "       10.57901661, 13.38388024, 13.36722567,  7.98151591, 13.48298049,\n",
       "       12.27824738, 10.7578769 ,  8.98496798, 13.89048667, 11.97195094,\n",
       "        5.52382107,  9.76012617,  8.03779689, 11.75908976,  5.16541372,\n",
       "       13.36780407,  5.40881231, 12.78707482,  6.12997396,  3.60890669,\n",
       "        6.73625422, 12.96257928, 13.19234638, 12.46738981,  5.0002674 ,\n",
       "        3.03672788,  9.32162393, 13.04170525, 12.2125795 , 13.42877571,\n",
       "        5.94704468, 12.08316766, 12.11202312, 12.45328623, 10.07234343,\n",
       "        8.3403988 ,  9.18598872, 10.16523661, 11.91588555, 12.18798766,\n",
       "        2.30836693, 10.02217619, 10.5271807 , 10.78245531, 11.50216049,\n",
       "       12.49432956, 11.19914945, 13.42877571,  8.89212237,  4.27301433,\n",
       "       12.1979047 ,  5.59032512, 10.78206402, 12.68605358,  9.36130957,\n",
       "       12.7054078 ,  6.27433232,  7.71153522, 12.60835384,  8.49780755,\n",
       "       11.42324707, 10.32758153,  6.18375543, 13.70403746,  4.59511734,\n",
       "       13.79799136, 10.08921358,  9.1521998 ,  7.43512426,  8.27552025,\n",
       "       10.84276142, 10.51520401, 13.36472226, 11.67996845,  8.75966775,\n",
       "        8.0915387 , 10.31174368,  4.49655509, 11.40782248, 10.65561179,\n",
       "        3.44544148,  7.8720949 ,  3.92350515, 14.13157268, 12.81730795,\n",
       "       13.27801542, 14.05133125, 11.52802397, 10.58818047,  7.14629348,\n",
       "       13.43069607, 13.43639775, 12.34999335, 11.99570173, 13.38061344,\n",
       "       11.24492299,  7.23773949, 10.18476475])"
      ]
     },
     "execution_count": 219,
     "metadata": {},
     "output_type": "execute_result"
    }
   ],
   "source": [
    "test_pred1=La.predict(x_test)\n",
    "test_pred1"
   ]
  },
  {
   "cell_type": "code",
   "execution_count": 221,
   "id": "44fa1de8",
   "metadata": {},
   "outputs": [
    {
     "data": {
      "text/plain": [
       "3.37078502067029"
      ]
     },
     "execution_count": 221,
     "metadata": {},
     "output_type": "execute_result"
    }
   ],
   "source": [
    "mean_squared_error(test_pred1,y_test)"
   ]
  },
  {
   "cell_type": "code",
   "execution_count": 222,
   "id": "ec98c363",
   "metadata": {},
   "outputs": [
    {
     "data": {
      "text/plain": [
       "1.8359697766222325"
      ]
     },
     "execution_count": 222,
     "metadata": {},
     "output_type": "execute_result"
    }
   ],
   "source": [
    "np.sqrt(mean_squared_error(test_pred1,y_test))"
   ]
  },
  {
   "cell_type": "markdown",
   "id": "0123a55f",
   "metadata": {},
   "source": [
    "## RIDGE"
   ]
  },
  {
   "cell_type": "code",
   "execution_count": 223,
   "id": "bbd8f8aa",
   "metadata": {},
   "outputs": [],
   "source": [
    "from sklearn.linear_model import Ridge"
   ]
  },
  {
   "cell_type": "code",
   "execution_count": 224,
   "id": "41369bbd",
   "metadata": {},
   "outputs": [],
   "source": [
    "Ri=Ridge(alpha=0.1)"
   ]
  },
  {
   "cell_type": "code",
   "execution_count": 225,
   "id": "892a0444",
   "metadata": {},
   "outputs": [
    {
     "data": {
      "text/plain": [
       "Ridge(alpha=0.1)"
      ]
     },
     "execution_count": 225,
     "metadata": {},
     "output_type": "execute_result"
    }
   ],
   "source": [
    "Ri.fit(x_train,y_train)"
   ]
  },
  {
   "cell_type": "code",
   "execution_count": 226,
   "id": "0a43d7c6",
   "metadata": {},
   "outputs": [
    {
     "data": {
      "text/plain": [
       "19.73988798775421"
      ]
     },
     "execution_count": 226,
     "metadata": {},
     "output_type": "execute_result"
    }
   ],
   "source": [
    "Ri.intercept_"
   ]
  },
  {
   "cell_type": "code",
   "execution_count": 227,
   "id": "e9719db5",
   "metadata": {},
   "outputs": [
    {
     "data": {
      "text/plain": [
       "array([-0.00423316, -0.02367804, -0.00201898, -0.02219966])"
      ]
     },
     "execution_count": 227,
     "metadata": {},
     "output_type": "execute_result"
    }
   ],
   "source": [
    "Ri.coef_"
   ]
  },
  {
   "cell_type": "code",
   "execution_count": 228,
   "id": "7bd78914",
   "metadata": {},
   "outputs": [
    {
     "data": {
      "text/plain": [
       "array([11.88752966, 11.30233411, 11.81057675, 11.0872191 ,  9.20109198,\n",
       "       13.37646453, 11.23154118, 11.1298212 , 13.54736023, 12.74780897,\n",
       "        9.58145677, 13.00088022, 11.43909296, 11.93177377, 10.44121362,\n",
       "       12.87048506,  6.9043312 , 12.51335607, 11.90917963, 13.33642929,\n",
       "        9.40749922,  6.7083892 ,  6.37161792,  8.69780187, 10.48978952,\n",
       "       11.72163146, 12.13627795, 11.04816068, 11.65647585,  3.61844099,\n",
       "        9.0305649 , 10.62050949,  6.6777087 , 13.32744764,  3.90979364,\n",
       "       11.55368685, 13.42274155, 11.12686317, 13.15472135,  4.88449882,\n",
       "       13.17850086, 13.53105759,  2.9823394 , 13.74010024, 11.57690963,\n",
       "        8.4507681 ,  5.96573575,  4.34238358,  6.35450611,  9.63371063,\n",
       "       13.47837033, 10.47078278,  9.295993  ,  8.60613954,  5.17353791,\n",
       "       11.7641661 ,  5.58713455, 12.97082886, 10.22382959,  5.19905518,\n",
       "       11.8036681 , 11.726344  ,  9.41510797, 11.19654187, 10.62962035,\n",
       "       10.17774356, 12.62757035,  5.57089912,  6.48468973, 10.15355643,\n",
       "        9.15269374, 11.91234197, 13.04467673, 11.94706216,  7.0382421 ,\n",
       "       12.50874548, 14.08939613, 13.03590085,  6.38104662, 10.82042175,\n",
       "       13.72722592,  4.63495686,  7.0480413 , 14.11366272,  6.33526423,\n",
       "        7.27588193, 11.24849094, 14.08717617, 11.29173996, 10.67982571,\n",
       "       12.77194085, 10.25190414, 11.75295684, 12.7174658 ,  9.63077705,\n",
       "       10.27459981,  8.74247199, 13.13041001,  5.54376043,  4.34147574,\n",
       "        8.35820732,  8.65540335, 11.16807153,  7.66063529, 11.96183484,\n",
       "        3.75259351,  5.01807694, 13.24367341,  4.53666061,  7.73533744,\n",
       "       13.17934775,  8.98566276, 13.25210099,  7.60229937, 13.72677855,\n",
       "       10.62153826, 13.46024049,  6.29987193, 11.22407897, 12.6232873 ,\n",
       "       12.63945729, 12.98191397, 12.22256122, 12.99319477,  7.67832197,\n",
       "        8.64037386, 12.5616188 ,  7.58884115,  9.76324256, 13.46795658,\n",
       "        7.23232105,  6.42087883,  7.23232105, 13.73739524,  6.09392717,\n",
       "       12.14288438,  7.91675607,  6.69064825,  9.58717323,  3.9186517 ,\n",
       "       12.82328196, 14.49132191, 10.86729962, 11.96938937,  6.29772648,\n",
       "        6.11358534, 13.07675577, 11.08959468, 13.51184875,  9.11050853,\n",
       "       10.81231732,  3.59721253, 10.79447463,  6.59423153,  9.11269714,\n",
       "       11.24349098,  7.94999938,  9.10093636, 12.72947209, 10.43400422,\n",
       "        8.82246206, 11.42764612,  6.94998258, 11.42368074, 10.08890856,\n",
       "       12.69631311,  5.45590103,  9.93846617, 10.78340945, 12.69533889,\n",
       "        9.55657095, 11.64861475,  4.27450106, 12.80643592,  5.65185982,\n",
       "        7.80742605,  6.38937865,  9.68877709, 12.58126893,  5.96242075,\n",
       "        4.78335623,  4.89750724, 12.01439171,  3.33027057,  6.00635643,\n",
       "       12.96636742, 11.89011815,  5.4387827 ,  6.28371102,  8.91188194,\n",
       "       11.93532166, 13.9345949 , 10.43984705, 12.07781975, 12.81740858,\n",
       "       10.06001319,  7.23689195,  9.56880805, 10.14731478,  9.86993537,\n",
       "       11.36018419, 10.05852316, 11.22379352, 10.68049401, 13.69266131,\n",
       "        8.47439107,  3.25902845, 11.96260822,  9.1038783 , 13.04324905,\n",
       "        8.58644088,  4.63536067, 14.14511148,  6.64002661, 12.52073388,\n",
       "       12.15407757, 10.06610415,  9.24852432,  6.53725534,  5.41552555,\n",
       "       13.8988208 , 12.99774127, 11.00533713,  6.03368102, 12.7141075 ,\n",
       "        6.93886457,  9.44862398, 11.47649319, 13.01254276, 12.10588445,\n",
       "        6.47516836, 11.51611597, 12.73734701, 12.59643545, 13.80845355,\n",
       "       13.78399131, 13.12775335,  9.76644142,  9.55039504, 12.28838726,\n",
       "        7.30387981, 11.14458082, 12.97819068, 12.39420632, 13.37214084,\n",
       "       13.31500529, 10.54360067, 11.92790648, 10.4604555 ,  8.09056995,\n",
       "       13.33345625, 10.50346153, 13.24477856, 13.42284334, 10.31162837,\n",
       "       13.55175356, 13.42589061, 11.86175833,  8.85656723,  7.82960453,\n",
       "       10.13230616, 13.1870281 ,  6.7349814 ,  9.77491589, 13.17542944,\n",
       "       10.94181646, 11.37225121, 11.43104967,  5.86084237,  6.76594641,\n",
       "       10.42606867, 10.9331535 , 12.52126696,  4.09529398])"
      ]
     },
     "execution_count": 228,
     "metadata": {},
     "output_type": "execute_result"
    }
   ],
   "source": [
    "train_pred2=Ri.predict(x_train)\n",
    "train_pred2"
   ]
  },
  {
   "cell_type": "code",
   "execution_count": 229,
   "id": "b148a11c",
   "metadata": {},
   "outputs": [],
   "source": [
    "error_RI=y_train-train_pred2"
   ]
  },
  {
   "cell_type": "code",
   "execution_count": 230,
   "id": "8a56b93a",
   "metadata": {},
   "outputs": [
    {
     "data": {
      "text/plain": [
       "110   -2.534368\n",
       "17    -2.374316\n",
       "320    3.919740\n",
       "24    -2.159201\n",
       "128   -2.823936\n",
       "         ...   \n",
       "72    -0.388791\n",
       "107   -2.773482\n",
       "272   -0.814733\n",
       "352    0.190530\n",
       "103    0.581287\n",
       "Name: Kilometer_per_liter, Length: 274, dtype: float64"
      ]
     },
     "execution_count": 230,
     "metadata": {},
     "output_type": "execute_result"
    }
   ],
   "source": [
    "error_RI"
   ]
  },
  {
   "cell_type": "code",
   "execution_count": 231,
   "id": "742c7bbb",
   "metadata": {},
   "outputs": [
    {
     "data": {
      "text/plain": [
       "<AxesSubplot:xlabel='Kilometer_per_liter', ylabel='Density'>"
      ]
     },
     "execution_count": 231,
     "metadata": {},
     "output_type": "execute_result"
    },
    {
     "data": {
      "image/png": "[encoded data removed]",
      "text/plain": [
       "<Figure size 432x288 with 1 Axes>"
      ]
     },
     "metadata": {
      "needs_background": "light"
     },
     "output_type": "display_data"
    }
   ],
   "source": [
    "sns.kdeplot(error_RI)"
   ]
  },
  {
   "cell_type": "code",
   "execution_count": 232,
   "id": "55405e13",
   "metadata": {},
   "outputs": [],
   "source": [
    "from sklearn.metrics import mean_squared_error,r2_score"
   ]
  },
  {
   "cell_type": "code",
   "execution_count": 233,
   "id": "68e7b2bc",
   "metadata": {},
   "outputs": [
    {
     "data": {
      "text/plain": [
       "3.2133145524480535"
      ]
     },
     "execution_count": 233,
     "metadata": {},
     "output_type": "execute_result"
    }
   ],
   "source": [
    "mean_squared_error(train_pred2,y_train)"
   ]
  },
  {
   "cell_type": "code",
   "execution_count": 234,
   "id": "2fbfb2ad",
   "metadata": {},
   "outputs": [
    {
     "data": {
      "text/plain": [
       "1.7925720494440534"
      ]
     },
     "execution_count": 234,
     "metadata": {},
     "output_type": "execute_result"
    }
   ],
   "source": [
    "np.sqrt(mean_squared_error(train_pred2,y_train))"
   ]
  },
  {
   "cell_type": "code",
   "execution_count": 249,
   "id": "a7c53d7d",
   "metadata": {},
   "outputs": [
    {
     "data": {
      "text/plain": [
       "0.7223269016922644"
      ]
     },
     "execution_count": 249,
     "metadata": {},
     "output_type": "execute_result"
    }
   ],
   "source": [
    "r2_score(y_train,train_pred2)"
   ]
  },
  {
   "cell_type": "markdown",
   "id": "73c9e44e",
   "metadata": {},
   "source": [
    "## RIDGE TEST"
   ]
  },
  {
   "cell_type": "code",
   "execution_count": 235,
   "id": "fe6b69bb",
   "metadata": {},
   "outputs": [
    {
     "data": {
      "text/plain": [
       "array([12.88058483, 10.51312489, 13.9357546 , 13.29501408, 11.13167303,\n",
       "       12.83844809,  4.17289569, 12.57640121,  9.59287717, 14.0894853 ,\n",
       "        5.62836875, 10.26258869,  5.45467042, 12.81502432,  8.66523653,\n",
       "       11.4875575 , 10.0231469 , 12.38930294, 11.60976835, 11.757117  ,\n",
       "       10.58845143, 13.25148032, 13.38169933,  8.0212708 , 13.5116926 ,\n",
       "       12.27693647, 10.72449278,  9.01387555, 13.83688325, 11.95889892,\n",
       "        5.54991238,  9.76402046,  8.03847165, 11.7534751 ,  5.21580814,\n",
       "       13.38074767,  5.42733737, 12.76317183,  6.12186552,  3.4967967 ,\n",
       "        6.77759903, 12.98295182, 13.2060015 , 12.51684162,  5.04762687,\n",
       "        2.98246579,  9.35451607, 13.09412915, 12.1619691 , 13.47544669,\n",
       "        5.94478217, 12.06880218, 12.10116282, 12.46535535, 10.05571908,\n",
       "        8.31062937,  9.22339484, 10.15149686, 11.86666049, 12.20305053,\n",
       "        2.24608891, 10.00751274, 10.54696257, 10.80073138, 11.51694803,\n",
       "       12.47361648, 11.23008528, 13.47988663,  8.89672912,  4.24923395,\n",
       "       12.15893609,  5.54822296, 10.8197608 , 12.72453999,  9.4105234 ,\n",
       "       12.72873344,  6.29490587,  7.70375677, 12.6232873 ,  8.45901154,\n",
       "       11.44528155, 10.37272471,  6.19387108, 13.71078492,  4.54488426,\n",
       "       13.83043048, 10.05913931,  9.1455977 ,  7.41584116,  8.30264714,\n",
       "       10.8446798 , 10.51146748, 13.37109856, 11.69463979,  8.71251605,\n",
       "        8.10412498, 10.33217977,  4.50576824, 11.43941386, 10.65598183,\n",
       "        3.40071251,  7.80310692,  3.89199229, 14.08016546, 12.90315799,\n",
       "       13.2975228 , 14.06550516, 11.57881163, 10.63944466,  7.12709036,\n",
       "       13.45241682, 13.48466947, 12.32659331, 11.996486  , 13.39637416,\n",
       "       11.26015746,  7.2449023 , 10.16795601])"
      ]
     },
     "execution_count": 235,
     "metadata": {},
     "output_type": "execute_result"
    }
   ],
   "source": [
    "test_pred2=Ri.predict(x_test)\n",
    "test_pred2"
   ]
  },
  {
   "cell_type": "code",
   "execution_count": 237,
   "id": "b06e595d",
   "metadata": {},
   "outputs": [
    {
     "data": {
      "text/plain": [
       "3.380584540911875"
      ]
     },
     "execution_count": 237,
     "metadata": {},
     "output_type": "execute_result"
    }
   ],
   "source": [
    "mean_squared_error(test_pred2,y_test)"
   ]
  },
  {
   "cell_type": "code",
   "execution_count": 238,
   "id": "13cf2523",
   "metadata": {},
   "outputs": [
    {
     "data": {
      "text/plain": [
       "1.8386365983825828"
      ]
     },
     "execution_count": 238,
     "metadata": {},
     "output_type": "execute_result"
    }
   ],
   "source": [
    "np.sqrt(mean_squared_error(test_pred2,y_test))"
   ]
  },
  {
   "cell_type": "markdown",
   "id": "9ea4a084",
   "metadata": {},
   "source": [
    "## Cross validation"
   ]
  },
  {
   "cell_type": "markdown",
   "id": "3ebc9124",
   "metadata": {},
   "source": [
    "#### for our basic linear model"
   ]
  },
  {
   "cell_type": "code",
   "execution_count": 239,
   "id": "9b53027e",
   "metadata": {},
   "outputs": [],
   "source": [
    "from sklearn.model_selection import cross_val_score"
   ]
  },
  {
   "cell_type": "code",
   "execution_count": 240,
   "id": "d4582f0d",
   "metadata": {},
   "outputs": [],
   "source": [
    "cross=cross_val_score(l,x_train,y_train,cv=5)"
   ]
  },
  {
   "cell_type": "code",
   "execution_count": 241,
   "id": "3bd8c633",
   "metadata": {},
   "outputs": [
    {
     "data": {
      "text/plain": [
       "array([0.67619177, 0.66412121, 0.67807993, 0.83360759, 0.68661996])"
      ]
     },
     "execution_count": 241,
     "metadata": {},
     "output_type": "execute_result"
    }
   ],
   "source": [
    "cross"
   ]
  },
  {
   "cell_type": "code",
   "execution_count": 242,
   "id": "4f9aa7e0",
   "metadata": {},
   "outputs": [
    {
     "name": "stderr",
     "output_type": "stream",
     "text": [
      "C:\\Users\\ARAVINDKUMAR R\\AppData\\Roaming\\Python\\Python39\\site-packages\\seaborn\\_decorators.py:36: FutureWarning: Pass the following variable as a keyword arg: x. From version 0.12, the only valid positional argument will be `data`, and passing other arguments without an explicit keyword will result in an error or misinterpretation.\n",
      "  warnings.warn(\n"
     ]
    },
    {
     "data": {
      "text/plain": [
       "<AxesSubplot:>"
      ]
     },
     "execution_count": 242,
     "metadata": {},
     "output_type": "execute_result"
    },
    {
     "data": {
      "image/png": "[encoded data removed]",
      "text/plain": [
       "<Figure size 432x288 with 1 Axes>"
      ]
     },
     "metadata": {
      "needs_background": "light"
     },
     "output_type": "display_data"
    }
   ],
   "source": [
    "sns.boxplot(cross)"
   ]
  },
  {
   "cell_type": "markdown",
   "id": "67e62333",
   "metadata": {},
   "source": [
    "#### For Lasso"
   ]
  },
  {
   "cell_type": "code",
   "execution_count": 243,
   "id": "a72b7198",
   "metadata": {},
   "outputs": [],
   "source": [
    "cross_LA=cross_val_score(La,x_train,y_train,cv=5)"
   ]
  },
  {
   "cell_type": "code",
   "execution_count": 244,
   "id": "ee9bb44e",
   "metadata": {},
   "outputs": [
    {
     "data": {
      "text/plain": [
       "array([0.67657486, 0.66767792, 0.6805394 , 0.83423084, 0.69068566])"
      ]
     },
     "execution_count": 244,
     "metadata": {},
     "output_type": "execute_result"
    }
   ],
   "source": [
    "cross_LA"
   ]
  },
  {
   "cell_type": "code",
   "execution_count": 245,
   "id": "86368eb5",
   "metadata": {},
   "outputs": [
    {
     "name": "stderr",
     "output_type": "stream",
     "text": [
      "C:\\Users\\ARAVINDKUMAR R\\AppData\\Roaming\\Python\\Python39\\site-packages\\seaborn\\_decorators.py:36: FutureWarning: Pass the following variable as a keyword arg: x. From version 0.12, the only valid positional argument will be `data`, and passing other arguments without an explicit keyword will result in an error or misinterpretation.\n",
      "  warnings.warn(\n"
     ]
    },
    {
     "data": {
      "text/plain": [
       "<AxesSubplot:>"
      ]
     },
     "execution_count": 245,
     "metadata": {},
     "output_type": "execute_result"
    },
    {
     "data": {
      "image/png": "[encoded data removed]",
      "text/plain": [
       "<Figure size 432x288 with 1 Axes>"
      ]
     },
     "metadata": {
      "needs_background": "light"
     },
     "output_type": "display_data"
    }
   ],
   "source": [
    "sns.boxplot(cross_LA)"
   ]
  },
  {
   "cell_type": "markdown",
   "id": "0cf4108e",
   "metadata": {},
   "source": [
    "#### For Ridge"
   ]
  },
  {
   "cell_type": "code",
   "execution_count": 246,
   "id": "19775add",
   "metadata": {},
   "outputs": [],
   "source": [
    "cross_Ri=cross_val_score(Ri,x_train,y_train,cv=5)"
   ]
  },
  {
   "cell_type": "code",
   "execution_count": 247,
   "id": "f19fda98",
   "metadata": {},
   "outputs": [
    {
     "data": {
      "text/plain": [
       "array([0.67619181, 0.6641222 , 0.67808076, 0.83360772, 0.68662062])"
      ]
     },
     "execution_count": 247,
     "metadata": {},
     "output_type": "execute_result"
    }
   ],
   "source": [
    "cross_Ri"
   ]
  },
  {
   "cell_type": "code",
   "execution_count": 248,
   "id": "cf5285ae",
   "metadata": {},
   "outputs": [
    {
     "name": "stderr",
     "output_type": "stream",
     "text": [
      "C:\\Users\\ARAVINDKUMAR R\\AppData\\Roaming\\Python\\Python39\\site-packages\\seaborn\\_decorators.py:36: FutureWarning: Pass the following variable as a keyword arg: x. From version 0.12, the only valid positional argument will be `data`, and passing other arguments without an explicit keyword will result in an error or misinterpretation.\n",
      "  warnings.warn(\n"
     ]
    },
    {
     "data": {
      "text/plain": [
       "<AxesSubplot:>"
      ]
     },
     "execution_count": 248,
     "metadata": {},
     "output_type": "execute_result"
    },
    {
     "data": {
      "image/png": "[encoded data removed]",
      "text/plain": [
       "<Figure size 432x288 with 1 Axes>"
      ]
     },
     "metadata": {
      "needs_background": "light"
     },
     "output_type": "display_data"
    }
   ],
   "source": [
    "sns.boxplot(cross_Ri)"
   ]
  }
 ],
 "metadata": {
  "kernelspec": {
   "display_name": "Python 3",
   "language": "python",
   "name": "python3"
  },
  "language_info": {
   "codemirror_mode": {
    "name": "ipython",
    "version": 3
   },
   "file_extension": ".py",
   "mimetype": "text/x-python",
   "name": "python",
   "nbconvert_exporter": "python",
   "pygments_lexer": "ipython3",
   "version": "3.9.7"
  }
 },
 "nbformat": 4,
 "nbformat_minor": 5
}
